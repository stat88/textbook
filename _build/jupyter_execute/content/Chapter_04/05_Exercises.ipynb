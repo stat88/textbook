{
 "cells": [
  {
   "cell_type": "markdown",
   "metadata": {},
   "source": [
    "## Exercises ##"
   ]
  },
  {
   "cell_type": "markdown",
   "metadata": {},
   "source": [
    "**1.** At rush hour, passengers in a subway station come down an escalator to the platforms and choose either the Eastbound or the Westbound platform. Assume that each passenger chooses the Eastbound platform with chance 0.8 independently of all other passengers.\n",
    "\n",
    "Suppose you start watching the escalator at the start of rush hour.\n",
    "\n",
    "**a)** Find the chance that the first passenger to choose the Westbound platform is the fifth passenger that you see.\n",
    "\n",
    "**b)** Find the chance that more than 15 passengers choose the Eastbound platform before the first one who chooses the Westbound platform."
   ]
  },
  {
   "cell_type": "markdown",
   "metadata": {},
   "source": [
    "**2.** A random variable $W$ has the distribution shown in the table below. Sketch a graph of the cdf of $W$. \n",
    "\n",
    "|$~~~~~~~~~~~~~~~~~~~~~w$|$-2$ |$-1$|$0$|$1$|$3$|\n",
    "|----------------:|:---:|:---:|:---:|:---:|:---:|\n",
    "|$P(W = w)$|$0.1$|$0.3$|$0.25$|$0.2$|$0.15$|"
   ]
  },
  {
   "cell_type": "markdown",
   "metadata": {},
   "source": [
    "**3**.\n",
    "In a population, 30% of the individuals are green and the rest are blue. Suppose you draw individuals at random with replacement till both colors have appeared. Find the chance that you draw 10 times."
   ]
  },
  {
   "cell_type": "markdown",
   "metadata": {},
   "source": [
    "**4.**\n",
    "In a \"best of seven\" sports series, Team A plays Team B until one team has won four games. That team wins the series. Assume that in each game Team A has chance 0.8 of winning, independently of other games.\n",
    "\n",
    "**a)** Find the chance that there is a \"sweep\", that is, one team wins the first four games.\n",
    "\n",
    "**b)** Find the chance that the series lasts more than five games.\n",
    "\n",
    "**c)** Find the chance that the series lasts six games and Team A wins it.\n",
    "\n",
    "**d)** Find the chance that Team A wins the series."
   ]
  },
  {
   "cell_type": "markdown",
   "metadata": {},
   "source": [
    "**5.**\n",
    "Cards are dealt one by one at random without replacement till the fourth ace appears. Let $X$ be the number of cards dealt. \n",
    "\n",
    "**a)** Find $P(X = 39)$.\n",
    "\n",
    "**b)** Find $P(X > 20)$."
   ]
  },
  {
   "cell_type": "markdown",
   "metadata": {},
   "source": [
    "**6.**\n",
    "Each time I play the lottery, I have chance $1/2n$ of winning, independently of other times. Suppose I play $n$ times. For large $n$, find an approximate numerical value of the chance that I win at least once. Your answer should not involve $n$."
   ]
  },
  {
   "cell_type": "markdown",
   "metadata": {},
   "source": [
    "**7.**\n",
    "A book has 20 chapters. In each chapter the number of misprints has the Poisson distribution with parameter 2, independently of the misprints in other chapters.\n",
    "\n",
    "**a)** Find the chance that Chapter 1 has more than two misprints.\n",
    "\n",
    "**b)** Find the chance that the book has no misprints.\n",
    "\n",
    "**c)** Find the chance that two of the chapters have three misprints each."
   ]
  },
  {
   "cell_type": "markdown",
   "metadata": {},
   "source": [
    "**8.** In the first hour that a bank opens, the customers who enter are of three kinds: those who only require teller service, those who only want to use the ATM, and those who only require special services (neither the tellers nor the ATM). Assume that the numbers of customers of the three kinds are independent of each other and also that:\n",
    "\n",
    "- the number that only require teller service has the Poisson (6) distribution,\n",
    "- the number that only want to use the ATM has the Poisson (2) distribution, and\n",
    "- the number that only require special services has the Poisson (1) distribution.\n",
    "\n",
    "Suppose you observe the bank in the first hour that it opens. In each part below, find the chance of the event described.\n",
    "\n",
    "**a)** 12 customers enter the bank\n",
    "\n",
    "**b)** more than 12 customers enter the bank\n",
    "\n",
    "**c)** customers do enter but none requires special services"
   ]
  },
  {
   "cell_type": "markdown",
   "metadata": {},
   "source": [
    "**9.** On each spin of a roulette wheel, a gambler bets on a \"single number\". The chance that the gambler wins the bet on a spin is $1/38$ independently of all other spins.\n",
    "\n",
    "Suppose the gambler keeps making this bet until he has won six times. Let $X$ be the number of spins required. Find the cdf of $X$. Your answer should be a formula for the function."
   ]
  },
  {
   "cell_type": "markdown",
   "metadata": {},
   "source": [
    "**10**. \n",
    "Suppose you are running independent success/failure trials with probability 0.7 of success on each trial. Find the chance that you get 10 failures before the 15th success."
   ]
  },
  {
   "cell_type": "markdown",
   "metadata": {},
   "source": [
    "**11.** \n",
    "A courtyard is paved with 100 identical tiles. In an instant of rain, the number of raindrops on each tile has the Poisson (10) distribution independently of all other tiles.\n",
    "\n",
    "Find the chance that more than 90 tiles have more than 5 raindrops on them."
   ]
  },
  {
   "cell_type": "markdown",
   "metadata": {},
   "source": [
    "**12.** \n",
    "Each Cal Cookie contains random amounts of blue M&Ms and gold M&Ms. No other color is allowed.\n",
    "\n",
    "In one cookie, let $N_b$ be the number of blue M&Ms and $N_g$ the number of gold M&Ms. Let $M = N_b + N_g$ be the total number of M&Ms in the cookie. \n",
    "\n",
    "Suppose that $N_b$ and $N_g$ are independent and that each has the Poisson (4) distribution.\n",
    "\n",
    "**a)** Find $P(N_b = 3 \\mid M = 10)$.\n",
    "\n",
    "**b)** Fill in the blanks with the name of a distribution and its parameters. Explain your answers.\n",
    "\n",
    "Given $M = 10$, $N_b$ has the $\\underline{~~~~~~~~~~~~~~~~~~~~~~~~~}$ distribution with parameters $\\underline{~~~~~~~~~~~~~~~~~~~~~~~~~}$."
   ]
  }
 ],
 "metadata": {
  "kernelspec": {
   "display_name": "Python 3",
   "language": "python",
   "name": "python3"
  },
  "language_info": {
   "codemirror_mode": {
    "name": "ipython",
    "version": 3
   },
   "file_extension": ".py",
   "mimetype": "text/x-python",
   "name": "python",
   "nbconvert_exporter": "python",
   "pygments_lexer": "ipython3",
   "version": "3.12.5"
  }
 },
 "nbformat": 4,
 "nbformat_minor": 4
}