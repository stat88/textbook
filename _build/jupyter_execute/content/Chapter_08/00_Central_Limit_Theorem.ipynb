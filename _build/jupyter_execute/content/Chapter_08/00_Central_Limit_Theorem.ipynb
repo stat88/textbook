{
 "cells": [
  {
   "cell_type": "markdown",
   "metadata": {},
   "source": [
    "# Central Limit Theorem #"
   ]
  },
  {
   "cell_type": "markdown",
   "metadata": {},
   "source": [
    "It is important for data scientists to understand random sample averages, as those statistics are frequently used for estimating parameters. We know the expectation and SD of the mean of an i.i.d. sample, and we have observed that the distribution of the sample mean gets increasingly concentrated around the underlying population mean as the sample size gets larger.\n",
    "\n",
    "What you might also have noticed is that in many of our examples, the distribution of the sample mean looks bell shaped. The reason is a fundamental theorem of probability and statistical inference: the *Central Limit Theorem*. This chapter introduces the theorem and shows why it matters."
   ]
  },
  {
   "cell_type": "code",
   "execution_count": null,
   "metadata": {},
   "outputs": [],
   "source": []
  }
 ],
 "metadata": {
  "kernelspec": {
   "display_name": "Python 3",
   "language": "python",
   "name": "python3"
  },
  "language_info": {
   "codemirror_mode": {
    "name": "ipython",
    "version": 3
   },
   "file_extension": ".py",
   "mimetype": "text/x-python",
   "name": "python",
   "nbconvert_exporter": "python",
   "pygments_lexer": "ipython3",
   "version": "3.12.5"
  }
 },
 "nbformat": 4,
 "nbformat_minor": 4
}