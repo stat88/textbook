{
 "cells": [
  {
   "cell_type": "markdown",
   "metadata": {},
   "source": [
    "## Exercises ##"
   ]
  },
  {
   "cell_type": "markdown",
   "metadata": {},
   "source": [
    "**1.**\n",
    "In a move in the game Monopoly, a die is rolled twice. Let $D_1$ be the number of spots on the first roll, $D_2$ the number of spots on the second roll, and $S = D_1 + D_2$ the total number of spots on the two rolls.\n",
    "\n",
    "**a)** Find the distribution of $S$.\n",
    "\n",
    "**b)** Find $P(S > 7)$.\n",
    "\n",
    "**c)** Find $P(|S - 7| \\le 2)$."
   ]
  },
  {
   "cell_type": "markdown",
   "metadata": {},
   "source": [
    "**2.**\n",
    "A true-false test has 20 questions. \n",
    "\n",
    "**a)** Dev hasn't studied at all, so he guesses each answer by tossing a coin. Let $R$ be the number of questions that Dev gets right. Find $P(R > 16)$. \n",
    "\n",
    "**b)** Aram, Chendi, and Samir haven't studied either. So each of them also guesses every answer by tossing a coin. What is the chance that none of them gets more than 16 questions right? "
   ]
  },
  {
   "cell_type": "markdown",
   "metadata": {},
   "source": [
    "**3.**\n",
    "Yi likes to bet on \"red\" at roulette. Each time she bets, her chance of winning is $18/38$ independently of all other times. Suppose she bets repeatedly on red. Find the chance that:\n",
    "\n",
    "**a)** she wins four of the first 10 bets\n",
    "\n",
    "**b)** she wins at most four of the first 10 bets\n",
    "\n",
    "**c)** the third time she wins is on the 10th bet\n",
    "\n",
    "**d)** she needs more than 10 bets to win five times"
   ]
  },
  {
   "cell_type": "markdown",
   "metadata": {},
   "source": [
    "**4.** Akaash bets a dollar repeatedly on a \"split\" at roulette. \n",
    "\n",
    "- Each time he bets, his chance of winning is $2/38$ independently of other times. \n",
    "- Each time he wins a bet, his net gain is 17 dollars. \n",
    "- Each time he loses a bet, he loses a dollar; that is, his net gain is $-1$ dollars.\n",
    "\n",
    "Suppose he bets 90 times. What is the chance that he makes money? In other words, what is the chance that his total net gain is positive?"
   ]
  },
  {
   "cell_type": "markdown",
   "metadata": {},
   "source": [
    "**5.** A standard deck consists of 52 cards. Each card has a color, a suit, and a rank, as follows.\n",
    "\n",
    "- There are 13 cards in each of four suits: hearts, diamonds, spades, and clubs.\n",
    "- Hearts and diamonds are red. Spades and clubs are black.\n",
    "- In each suit, the cards are of 13 ranks: Ace, 2, 3, $\\ldots$, 10, Jack, Queen, King.\n",
    "- The Jacks, Queens, and Kings are called face cards.\n",
    "\n",
    "Throughout this course, \"dealt\" means \"sampled at random without replacement\".\n",
    "\n",
    "A bridge hand consists of 13 cards dealt from the deck.\n",
    "\n",
    "**a)** Find the chance that the hand contains two aces.\n",
    "\n",
    "**b)** Find the chance that the hand contains more than two aces.\n",
    "\n",
    "**c)** Find the chance that the hand contains six face cards. "
   ]
  },
  {
   "cell_type": "markdown",
   "metadata": {},
   "source": [
    "**6.** In a population of 200 voters, 70 are registered with Party A and the other 130 are registered with Party B. A simple random sample of 40 voters is drawn from this population. Let $V$ be the number of sampled voters who are registered with Party A, and let $W = 40 - V$ be the number of sampled voters who are registered with Party B Find:\n",
    "\n",
    "**a)** $P(V = 10)$\n",
    "\n",
    "**b)** $P(V > 10)$\n",
    "\n",
    "**c)** $P(W < 3V)$"
   ]
  },
  {
   "cell_type": "markdown",
   "metadata": {},
   "source": [
    "**7.**\n",
    "Every time Adalie buys a lottery ticket, her chance of winning is 1 in a million, independently of all other times. What is the smallest number of lottery tickets Adalie has to buy so that the chance that that she wins at least once is more than 50%?\n",
    "\n",
    "[You might want to use a Jupyter notebook cell to find the numerical value, just to get a sense of the magnitude. Use `np.log(x)` for $\\log(x)$ and `np.e` for $e$. Here $\\log$ means the natural logarithm.]"
   ]
  },
  {
   "cell_type": "markdown",
   "metadata": {},
   "source": [
    "**8.**\n",
    "Yiwen, Shashank, and Ophelia go out to dinner together every week. Each time, each of them tosses a coin. If one person's coin lands differently from both the others, that person is the \"odd one out\" and has to pay for everyone's dinner. If nobody is the odd one out then each person pays for their own dinner.\n",
    "\n",
    "Suppose they do this for 15 weeks.\n",
    "\n",
    "**a)** What is the chance that there is an odd one out at least once?\n",
    "\n",
    "**b)** What is the chance that Yiwen never has to pay for her own dinner?"
   ]
  },
  {
   "cell_type": "markdown",
   "metadata": {},
   "source": [
    "**9.** A coin is tossed 200 times. Let $X_1$ be the number of heads in the first 100 tosses and let $X_2$ be the number of heads in the last 100 tosses.\n",
    "\n",
    "**a)** True or false (explain): $X_1 = X_2$.\n",
    "\n",
    "**b)** Do $X_1$ and $X_2$ have the same distribution? Why or why not?"
   ]
  },
  {
   "cell_type": "markdown",
   "metadata": {},
   "source": [
    "**10.** A standard deck consists of 52 cards, 4 of which are aces. A simple random sample of 26 cards is drawn from the deck. Let $X_1$ be the number of aces in the sample and let $X_2$ be the number of aces among the cards that were not drawn in the sample.\n",
    "\n",
    "**a)** True or false (explain): $X_1 = X_2$.\n",
    "\n",
    "**b)** Do $X_1$ and $X_2$ have the same distribution? Why or why not?"
   ]
  }
 ],
 "metadata": {
  "kernelspec": {
   "display_name": "Python 3",
   "language": "python",
   "name": "python3"
  },
  "language_info": {
   "codemirror_mode": {
    "name": "ipython",
    "version": 3
   },
   "file_extension": ".py",
   "mimetype": "text/x-python",
   "name": "python",
   "nbconvert_exporter": "python",
   "pygments_lexer": "ipython3",
   "version": "3.12.5"
  }
 },
 "nbformat": 4,
 "nbformat_minor": 4
}