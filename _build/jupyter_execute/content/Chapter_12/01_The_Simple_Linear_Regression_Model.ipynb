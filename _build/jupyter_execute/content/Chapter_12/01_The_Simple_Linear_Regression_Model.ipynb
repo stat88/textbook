{
 "cells": [
  {
   "cell_type": "markdown",
   "metadata": {},
   "source": [
    "## The Simple Linear Regression Model ##"
   ]
  },
  {
   "cell_type": "markdown",
   "metadata": {},
   "source": [
    "The model involves a variable called the *response* and another called a *predictor variable* or *feature*. The assumptions are that the response is a linear function of the predictor variable, called a *signal*, plus random error, called *noise*:\n",
    "\n",
    "$$\n",
    "\\text{response} ~ = ~ \\text{signal} ~ + ~ \\text{noise}\n",
    "$$\n",
    "\n",
    "Our job is to extract the signal. The data are observations on the predictor variable and the response of $n$ individuals. We assume that we can measure the predictor variable perfectly accurately, and that it is therefore not random. The only random component of the response is the noise.\n",
    "\n",
    "Formally, for individuals $i = 1, 2, 3, \\ldots, n$, the response is assumed to be\n",
    "\n",
    "$$\n",
    "Y_i ~ = ~ \\beta_0 + \\beta_1x_i + \\epsilon_i\n",
    "$$\n",
    "\n",
    "where:\n",
    "\n",
    "- $\\beta_0$ and $\\beta_1$ are unobservable constant parameters.\n",
    "- $x_i$ is the value of the predictor variable for individual $i$ and is assumed to be constant (that is, not random).\n",
    "- The errors $\\epsilon_1, \\epsilon_2, \\ldots, \\epsilon_n$ are i.i.d. normal $(0, \\sigma^2)$ random variables.\n",
    "- The error variance $\\sigma^2$ is an unobservable constant parameter, and is assumed to be the same for all individuals $i$.\n",
    "\n",
    "For each individual $i$, we would like to get as close as we can to the signal $\\beta_0 + \\beta_1x_i$. We can't see the true line $y = \\beta_0 + \\beta_1x$, but we can estimate it by the regression line. Thus our estimator of the $i$th signal $\\beta_0 + \\beta_1x_i$ is\n",
    "\n",
    "$$\n",
    "\\hat{Y}_i ~ = ~ \\hat{\\beta}_0 + \\hat{\\beta}_1x_i\n",
    "$$\n",
    "\n",
    "where $\\hat{\\beta}_0$ and $\\hat{\\beta}_1$ are the interecept and slope of the regression line.\n",
    "\n",
    "To estimate the true slope $\\beta_1$, it is a good idea to examine the properties of the estimated slope $\\hat{\\beta}_1$. Before that, let's examine the response.\n",
    "\n",
    "It is important to keep in mind that all the subsequent calculations in this chapter will be performed under the regression model. The model does not pretend to be the truth: is only a set of assumptions about reality. If the assumptions are not valid for your data, then the calculations of this chapter will not be valid either."
   ]
  },
  {
   "cell_type": "markdown",
   "metadata": {},
   "source": [
    "### Individual Responses ###\n",
    "\n",
    "Fix $i$ in the range $1$ through $n$. The response $Y_i$ of individual $i$ is the sum of two pieces: the $i$th signal $\\beta_0 + \\beta_1x_i$ and the noise $\\epsilon_i$. \n",
    "\n",
    "The signal is a constant, and $\\epsilon_i$ has the normal $(0, \\sigma^2)$ distribution.\n",
    "\n",
    "Therefore **the response $Y_i$ of individual $i$ has the normal distribution with mean $\\beta_0 + \\beta_1x_i$ and variance $\\sigma^2$**.\n",
    "\n",
    "The randomness in $Y_i$ comes only from $\\epsilon_i$ as the $i$th signal is a constant. Since $\\epsilon_1, \\epsilon_2, \\ldots, \\epsilon_n$ are independent, the individual responses $Y_1, Y_2, \\ldots, Y_n$ are independent of each other."
   ]
  },
  {
   "cell_type": "markdown",
   "metadata": {},
   "source": [
    "### Average Response ###\n",
    "\n",
    "Let $\\bar{Y} = \\frac{1}{n}\\sum_{i=1}^n Y_i$ denote the average response of the $n$ individuals.\n",
    "\n",
    "Then $\\bar{Y}$ is a linear combination of independent normally distributed random variables. So the distribution of $\\bar{Y}$ is normal.\n",
    "\n",
    "The mean of the distribution is\n",
    "\n",
    "$$\n",
    "\\begin{align*}\n",
    "E(\\bar{Y}) ~ &= ~ \\frac{1}{n}\\sum_{i=1}^nE(Y_i) \\\\\n",
    "&= ~ \\frac{1}{n}\\sum_{i=1}^n (\\beta_0 + \\beta_1 x_i) \\\\\n",
    "&= ~ \\frac{1}{n}\\sum_{i=1}^n \\beta_0 ~ + ~ \\frac{1}{n}\\sum_{i=1}^n \\beta_1x_i \\\\\n",
    "&= ~ \\frac{1}{n} \\cdot n\\beta_0 ~ + ~ \\beta_1\\frac{1}{n}\\sum_{i=1}^n x_i \\\\\n",
    "&= ~ \\beta_0 + \\beta_1 \\bar{x}\n",
    "\\end{align*}\n",
    "$$\n",
    "\n",
    "Thus the expected average response is the signal at the average value of the predictor variable.\n",
    "\n",
    "Since the individual responses are independent of each other, we have\n",
    "\n",
    "$$\n",
    "Var(\\bar{Y}) ~ = ~ \\frac{1}{n^2}\\sum_{i=1}^n Var(Y_i) ~ = ~ \\frac{1}{n^2}\\cdot n\\sigma^2 ~ = ~ \\frac{\\sigma^2}{n}\n",
    "$$\n",
    "\n",
    "To summarize, **the distribution of the average response $\\bar{Y}$ is normal with mean $\\beta_0 + \\beta_1\\bar{x}$ and variance $\\frac{\\sigma^2}{n}$**."
   ]
  },
  {
   "cell_type": "code",
   "execution_count": null,
   "metadata": {},
   "outputs": [],
   "source": []
  }
 ],
 "metadata": {
  "kernelspec": {
   "display_name": "Python 3",
   "language": "python",
   "name": "python3"
  },
  "language_info": {
   "codemirror_mode": {
    "name": "ipython",
    "version": 3
   },
   "file_extension": ".py",
   "mimetype": "text/x-python",
   "name": "python",
   "nbconvert_exporter": "python",
   "pygments_lexer": "ipython3",
   "version": "3.12.5"
  }
 },
 "nbformat": 4,
 "nbformat_minor": 4
}