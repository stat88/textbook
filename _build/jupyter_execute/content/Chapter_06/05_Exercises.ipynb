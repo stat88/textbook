{
 "cells": [
  {
   "cell_type": "markdown",
   "metadata": {},
   "source": [
    "## Exercises ##"
   ]
  },
  {
   "cell_type": "markdown",
   "metadata": {},
   "source": [
    "**1.** Let the distribution of $X$ be\n",
    "\n",
    "|$~~~~~~~~~~~ x$| 1 | 2 | 3 |\n",
    "|--------------:|:---:|:---:|:---:|\n",
    "|$P(X=x)$| $0.2$ | $0.5$ | $0.3$ |\n",
    "\n",
    "Find $E(X)$ and $Var(X)$."
   ]
  },
  {
   "cell_type": "markdown",
   "metadata": {},
   "source": [
    "**2.** A person is picked at random from a population. Let $Y$ be the year in which the person was born, and suppose $E(Y) = 1997$ and $SD(Y) = 2$. Define the person's age in 2019 to be $X = 2019 - Y$. Find $E(X)$ and $SD(X)$. "
   ]
  },
  {
   "cell_type": "markdown",
   "metadata": {},
   "source": [
    "**3.**\n",
    "In each part, construct the distribution of a random variable $X$ that satisfies the conditions given. A great way to construct examples is to keep them as simple as possible: random variables with just a couple of possible values will do the job.\n",
    "\n",
    "**a)** $E(X) = 10$, $SD(X) = 0$\n",
    "\n",
    "**b)** $E(X) = 10$, $SD(X) = 20$.\n",
    "\n",
    "**c)** $E(X) = 10$, $SD(X) = 20$, $P(X \\ge 0) = 1$."
   ]
  },
  {
   "cell_type": "markdown",
   "metadata": {},
   "source": [
    "**4.** \n",
    "Let $X$ have distribution\n",
    "\n",
    "|$~~~~~~~~~~~ x$| 1 | 2 | 3 | 4 |\n",
    "|--------------:|:---:|:---:|:---:|:---:|\n",
    "|$P(X=x)$| $0.4$ | $0.1$ | $0.1$ | $0.4$ |\n",
    "\n",
    "Let $Y$ have distribution\n",
    "\n",
    "|$~~~~~~~~~~~ y$| 1 | 2 | 3 | 4 |\n",
    "|--------------:|:---:|:---:|:---:|:---:|\n",
    "|$P(Y=Y)$| $0.1$ | $0.4$ | $0.4$ | $0.1$ |\n",
    "\n",
    "In each part, say which of the two quantities is bigger (if any) and explain why.\n",
    "\n",
    "**a)** $E(X)$, $E(Y)$\n",
    "\n",
    "**b)** $SD(X)$, $SD(Y)$"
   ]
  },
  {
   "cell_type": "markdown",
   "metadata": {},
   "source": [
    "**5.**\n",
    "Let $p \\in (0, 1)$ and let $X$ be the number of spots showing on a flattened die that shows its six faces according to the following chances:\n",
    "\n",
    "- $P(X=1) ~ = ~ P(X=6)$\n",
    "- $P(X=2) ~ = ~ P(X=3) ~ = ~ P(X=4) ~ = ~ P(X=5)$\n",
    "- $P(X = 1 ~ \\text{ or } ~ 6) = p$\n",
    "\n",
    "Find $SD(X)$ and explain why it is an increasing function of $p$."
   ]
  },
  {
   "cell_type": "markdown",
   "metadata": {},
   "source": [
    "**6.** \n",
    "Ages in a population have a mean of 40 years. Let $X$ be the age of a person picked at random from the population.\n",
    "\n",
    "**a)** If possible, find $P(X \\ge 80)$. If it's not possible, explain why, and find the best upper bound you can based on the information given.\n",
    "\n",
    "**b)** Suppose you are told in addition that the SD of the ages is 15 years. What can you say about $P(10 < X < 70)$?\n",
    "\n",
    "**c)** With the information as in Part **b**, what can you say about $P(10 \\le X \\le 70)$?"
   ]
  },
  {
   "cell_type": "markdown",
   "metadata": {},
   "source": [
    "**7.** \n",
    "Scores on a test have an average of 60 and a standard deviation of 12. Let $S$ be a score picked at random. Find the best lower and upper bounds you can on $P(S \\ge 90)$."
   ]
  },
  {
   "cell_type": "markdown",
   "metadata": {},
   "source": [
    "**8.**\n",
    "Let $X$ be a non-negative random variable, and let a \"median\" $m$ be such that $P(X \\ge m) = 0.5$. Find a bound for the mean $E(X)$ in terms of the median $m$."
   ]
  },
  {
   "cell_type": "markdown",
   "metadata": {},
   "source": [
    "**9.**\n",
    "Let $X$ be a random variable with $E(X) = 20$ and $SD(X) = 4$. Use Markov's inequality to find an upper bound for $P(X^2 \\ge 1000)$."
   ]
  },
  {
   "cell_type": "markdown",
   "metadata": {},
   "source": [
    "**10.** \n",
    "Let $X$ be a random variable.\n",
    "\n",
    "**a)** If you know $E(X)$ and $E(X^2)$, can you find $SD(X)$?\n",
    "\n",
    "**b)** If you know $E(X)$ and $SD(X)$, can you fnd $E(X^2)$?\n",
    "\n",
    "**c)** If you know $SD(X)$ and $E(X^2)$, can you find $E(X)$?"
   ]
  },
  {
   "cell_type": "code",
   "execution_count": null,
   "metadata": {},
   "outputs": [],
   "source": []
  }
 ],
 "metadata": {
  "kernelspec": {
   "display_name": "Python 3",
   "language": "python",
   "name": "python3"
  },
  "language_info": {
   "codemirror_mode": {
    "name": "ipython",
    "version": 3
   },
   "file_extension": ".py",
   "mimetype": "text/x-python",
   "name": "python",
   "nbconvert_exporter": "python",
   "pygments_lexer": "ipython3",
   "version": "3.12.5"
  }
 },
 "nbformat": 4,
 "nbformat_minor": 4
}