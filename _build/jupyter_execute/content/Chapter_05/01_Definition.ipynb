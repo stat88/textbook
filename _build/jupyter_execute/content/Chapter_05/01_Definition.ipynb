{
 "cells": [
  {
   "cell_type": "code",
   "execution_count": 1,
   "metadata": {
    "tags": [
     "remove_input"
    ]
   },
   "outputs": [],
   "source": [
    "# NO CODE \n",
    "\n",
    "from datascience import *\n",
    "from prob140 import *\n",
    "import numpy as np\n",
    "import matplotlib.pyplot as plt\n",
    "plt.style.use('fivethirtyeight')\n",
    "%matplotlib inline\n",
    "import math\n",
    "from scipy import stats"
   ]
  },
  {
   "cell_type": "markdown",
   "metadata": {},
   "source": [
    "## Definition ##"
   ]
  },
  {
   "cell_type": "markdown",
   "metadata": {},
   "source": [
    "The *expectation* of a random variable $X$, denoted $E(X)$, is the average of the possible values of $X$ weighted by their probabilities: \n",
    "\n",
    "$$\n",
    "E(X) = \\sum_{\\text{all }x} xP(X=x)\n",
    "$$\n",
    "\n",
    "**Technical Note:** If $X$ has finitely many possible values, the sums above are always well defined and finite. If $X$ can have countably many values (that is, values indexed by 1, 2, 3, $\\ldots$), then more care is needed to make sure that the formulas result in a well defined number. You don't have to worry about that in this course.\n",
    "\n",
    "For example, suppose $X$ has the following distribution table.\n",
    "\n",
    "|$~~~~~~~~~~~~~~~~~~~k$|1|2|3|4|5\n",
    "|-----------------:|:---:|:---:|:---:|:---:|:---:|\n",
    "|$P(X = k)$|$0.1$|$0.15$|$0.2$|$0.3$|$0.25$|\n",
    "\n",
    "Then \n",
    "\n",
    "$$\n",
    "E(X) ~ = ~ 1(0.1) + 2(0.15) + 3(0.2) + 4(0.3) + 5(0.25) ~ = ~ 3.45\n",
    "$$\n",
    "\n",
    "Here is the probability histogram of $X$ with $E(X)$ marked in red on the horizontal axis."
   ]
  },
  {
   "cell_type": "code",
   "execution_count": 2,
   "metadata": {
    "tags": [
     "remove_input"
    ]
   },
   "outputs": [
    {
     "data": {
      "image/png": "[encoded data removed]",
      "text/plain": [
       "<Figure size 640x480 with 1 Axes>"
      ]
     },
     "metadata": {},
     "output_type": "display_data"
    }
   ],
   "source": [
    "# NO CODE\n",
    "\n",
    "x = np.arange(1, 6)\n",
    "probs = make_array(0.1, 0.15, 0.2, 0.3, 0.25)\n",
    "example_dist = Table().values(x).probabilities(probs)\n",
    "Plot(example_dist, show_ev=True)\n",
    "plt.title('Probability Histogram of $X$');"
   ]
  },
  {
   "cell_type": "markdown",
   "metadata": {},
   "source": [
    "#### Notes ####\n",
    "\n",
    "- $E(X)$ has the same units of measurement as $X$. For example, if $X$ is a weight in kilograms, then $E(X)$ is also in kilograms.\n",
    "- Though $E(X)$ is sometimes called the \"expected value\" of $X$, the example shows that $E(X)$ need not be a possible value of $X$. It also need not be an integer even $X$ is integer-valued.\n",
    "- If you imagine generating the random variable $X$ in the example many times, then about 10% of the time you expect to see the value 1, about 15% of the time you expect to see 2, and so on. So you can think of $E(X)$ as the long-run average value of $X$.\n",
    "- Imagine the histogram made out of cardboard and attached to a wire that is the horizontal axis. The object will balance at its center of gravity. The formula for $E(X)$ is the same as the formula for the center of gravity of the object. We say that $E(X)$ is the *balance point* of the probability histogram of $X$. This is the sense in which $E(X)$ tells us the *location* of the distribution of $X$."
   ]
  },
  {
   "cell_type": "markdown",
   "metadata": {},
   "source": [
    "### Constant ###\n",
    "This example seems silly but it is worth keeping in mind because it gets used all the time. Suppose a random variable $X$ is actually a constant $c$, that is, suppose $P(X = c) = 1$. Then the distribution of $X$ puts all its mass on the single value $c$, and $E(X) = c\\cdot 1 = c$. We just write $E(c) = c$. "
   ]
  },
  {
   "cell_type": "markdown",
   "metadata": {},
   "source": [
    "### Bernoulli and Indicators ###\n",
    "\n",
    "Success/failure trials appear so often in probability theory that they have multiple names. \n",
    "\n",
    "The first name is after the Swiss mathematician [Jacob Bernoulli](https://en.wikipedia.org/wiki/Jacob_Bernoulli). A random variable $X$ has the *Bernoulli* $(p)$ distribution if $P(X = 1)= p$\n",
    "and $P(X = 0) = 1-p$. So\n",
    "\n",
    "$$\n",
    "E(X) = 0 \\cdot (1-p) ~ + ~ 1 \\cdot p ~ = ~ p\n",
    "$$\n",
    "\n",
    "These random variables are also often called *indicators*. Let $A$ be any event. Then the *indicator* of $A$ is the random variable $I_A$ that has the value 1 if $A$ occurs and 0 if $A$ doesn't occur. Thus $I_A$ is has the Bernoulli $(P(A))$ distribution and \n",
    "\n",
    "$$\n",
    "E(I_A) = P(A)\n",
    "$$\n",
    "\n",
    "This shows that every probability is an expectation. Understanding expectation is the key to understanding much of probability theory."
   ]
  },
  {
   "cell_type": "markdown",
   "metadata": {},
   "source": [
    "### Uniform on $\\{1, 2, 3, \\ldots, n\\}$\n",
    "\n",
    "Let $n$ be a fixed positive integer. A random variable $X$ has the *uniform* distribution on the integers 1 through $n$ if $X$ is equally likely to have any of the values 1 through $n$.\n",
    "\n",
    "For example, the number that appears on one roll of a die is a random variable that has the uniform distribution on $\\{1, 2, 3, 4, 5, 6\\}$.\n",
    "\n",
    "The probability histogram of $X$ is flat over the possible values 1 through $n$, so it balances half-way between 1 and $n$. Thus\n",
    "\n",
    "$$\n",
    "E(X) ~ = ~ \\frac{n+1}{2}\n",
    "$$\n",
    "\n",
    "You can also show this by algebra, using the fact that $P(X = k) = 1/n$ for $1 \\le k \\le n$, but the argument by symmetry is easier.\n",
    "\n",
    "If $X$ is the number on a roll of a die, then $E(X) = 3.5$."
   ]
  },
  {
   "cell_type": "markdown",
   "metadata": {},
   "source": [
    "### Poisson $(\\mu)$ ###\n",
    "\n",
    "Let $X$ have the Poisson $(\\mu)$ distribution. Then\n",
    "\n",
    "$$\n",
    "\\begin{align*}\n",
    "E(X) &= \\sum_{k=0}^\\infty k e^{-\\mu} \\frac{\\mu^k}{k!} \\\\ \\\\\n",
    "&= e^{-\\mu} \\mu \\sum_{k=1}^\\infty \\frac{\\mu^{k-1}}{(k-1)!} \\\\ \\\\\n",
    "&= e^{-\\mu} \\mu \\sum_{j=0}^\\infty \\frac{\\mu^j}{j!} \\\\ \\\\\n",
    "&= e^{-\\mu} \\mu e^{\\mu} \\\\ \\\\\n",
    "&= \\mu\n",
    "\\end{align*}\n",
    "$$\n",
    "\n",
    "We now have an interpretation for the Poisson parameter $\\mu$. It's the expectation of the random variable. We said earlier that the integer part of $\\mu$ is the mode of $X$. But the interpretation of $\\mu$ as an expected value will be used far more frequently. \n",
    "\n",
    "In the Bombing of London example in an earlier section, the Poisson (0.93) distribution was shown to be a good approximation to the observed distribution of the number of bomb hits on London locations during World War II. Now we can understand where that parameter 0.93 came from. It was the average number of hits per location."
   ]
  }
 ],
 "metadata": {
  "celltoolbar": "Edit Metadata",
  "kernelspec": {
   "display_name": "Python 3",
   "language": "python",
   "name": "python3"
  },
  "language_info": {
   "codemirror_mode": {
    "name": "ipython",
    "version": 3
   },
   "file_extension": ".py",
   "mimetype": "text/x-python",
   "name": "python",
   "nbconvert_exporter": "python",
   "pygments_lexer": "ipython3",
   "version": "3.12.5"
  }
 },
 "nbformat": 4,
 "nbformat_minor": 4
}