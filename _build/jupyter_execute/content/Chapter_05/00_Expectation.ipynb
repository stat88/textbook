{
 "cells": [
  {
   "cell_type": "markdown",
   "metadata": {},
   "source": [
    "# Expectation #"
   ]
  },
  {
   "cell_type": "markdown",
   "metadata": {},
   "source": [
    "The distribution of a random variable $X$ contains all the information you need to find probabilities of events determined by $X$. For example, to find the chance that $X$ is greater than 20, you can identify all the possible values of $X$ that are greater than 20 and then add up all their chances.\n",
    "\n",
    "Sometimes, we don't need all this information. We might just want to know roughly how big $X$ is. For this we need a rough sense of where the distribution of $X$ is situated on the number line. \n",
    "\n",
    "In this chapter we will study a quantity called the *expectation of $X$* that is a measure of the *location* of the distribution. In data science, the expectation of $X$ sometimes serves as a guess for how big $X$ can be. In later chapters we will study how good it is as a guess."
   ]
  },
  {
   "cell_type": "code",
   "execution_count": null,
   "metadata": {},
   "outputs": [],
   "source": []
  }
 ],
 "metadata": {
  "kernelspec": {
   "display_name": "Python 3",
   "language": "python",
   "name": "python3"
  },
  "language_info": {
   "codemirror_mode": {
    "name": "ipython",
    "version": 3
   },
   "file_extension": ".py",
   "mimetype": "text/x-python",
   "name": "python",
   "nbconvert_exporter": "python",
   "pygments_lexer": "ipython3",
   "version": "3.12.5"
  }
 },
 "nbformat": 4,
 "nbformat_minor": 4
}