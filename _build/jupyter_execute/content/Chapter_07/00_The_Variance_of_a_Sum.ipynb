{
 "cells": [
  {
   "cell_type": "markdown",
   "metadata": {},
   "source": [
    "# The Variance of a Sum #"
   ]
  },
  {
   "cell_type": "markdown",
   "metadata": {},
   "source": [
    "Additivity is the most important property of expectation. It has helped us find numerous expectations that would have been hard to find by other means.\n",
    "\n",
    "It is natural to ask whether variance also has an additivity property. In this chapter we will explore that question and use what we discover to find the SDs of many different random variables. \n",
    "\n",
    "We will also use properties of variance to illuminate some properties of large random samples, including the law of averages."
   ]
  },
  {
   "cell_type": "code",
   "execution_count": null,
   "metadata": {},
   "outputs": [],
   "source": []
  }
 ],
 "metadata": {
  "kernelspec": {
   "display_name": "Python 3",
   "language": "python",
   "name": "python3"
  },
  "language_info": {
   "codemirror_mode": {
    "name": "ipython",
    "version": 3
   },
   "file_extension": ".py",
   "mimetype": "text/x-python",
   "name": "python",
   "nbconvert_exporter": "python",
   "pygments_lexer": "ipython3",
   "version": "3.12.5"
  }
 },
 "nbformat": 4,
 "nbformat_minor": 4
}