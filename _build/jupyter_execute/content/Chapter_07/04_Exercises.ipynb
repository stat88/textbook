{
 "cells": [
  {
   "cell_type": "markdown",
   "metadata": {},
   "source": [
    "## Exercises ##"
   ]
  },
  {
   "cell_type": "markdown",
   "metadata": {},
   "source": [
    "**1.**\n",
    "Let $X$ and $Y$ be independent random variables such that\n",
    "\n",
    "- $E(X) = 10$, $SD(X) = 3$\n",
    "- $E(Y) = -8$, $SD(Y) = 4$\n",
    "\n",
    "Let $V = 5X - 2Y + 9$. Find $E(V)$, $Var(V)$, and $SD(V)$."
   ]
  },
  {
   "cell_type": "markdown",
   "metadata": {},
   "source": [
    "**2.** A multiple choice test has 60 questions. Each question has three possible answers, one of which is correct. Let $R$ be the number of correct answers a student gets by guessing all the answers independently at random. Find $E(R)$ and $SD(R)$."
   ]
  },
  {
   "cell_type": "markdown",
   "metadata": {},
   "source": [
    "**3.** In roulette, a bet on a \"split\" pays 17 to 1 and there are two chances in 38 to win. This means:\n",
    "\n",
    "- Each time you bet on a split, your chance of winning is $2/38$ independently of all other times.\n",
    "- If you bet a dollar on a \"split\", then if you win the bet your net gain is $\\$17$ and if you lose the bet your net gain is $-\\$1$.\n",
    "\n",
    "Suppose you bet on a split on each of 100 spins of the roulette wheel. Let $X$ be your total net gain on all 100 bets. \n",
    "\n",
    "**a)** Find $E(X)$ and $SD(X)$.\n",
    "\n",
    "**b)** Find the chance that you come out ahead, that is, your total net gain is positive."
   ]
  },
  {
   "cell_type": "markdown",
   "metadata": {},
   "source": [
    "**4.** \n",
    "This exercise is about draws made at random with replacement from the integers $1, 2, \\ldots, N$. It is the model we used for estimation in the [German tanks problem](ch5.4).\n",
    "\n",
    "**a)** In the special case $N = 6$, our model represents rolling a die. Let $X_1$ be the number of spots on one roll of a die. Find $E(X_1)$ and $Var(X_1)$.\n",
    "\n",
    "**b)** The calculations in Part **a** can be generalized for $X_1$ uniformly distributed on $1, 2, \\ldots, N$, to get $E(X_1) = (N+1)/2$ as you know, and $Var(X_1) = (N^2 - 1)/12$. The formula for variance follows by algebra that you don't have to do; you can just use the formula.\n",
    "\n",
    "Now let $X_1, X_2, \\ldots, X_n$ be draws at random with replacement from $1, 2, \\ldots, N$, as in the German tanks problem. Denote the sample average by $\\bar{X} = \\frac{1}{n}\\sum_{i=1}^n X_i$. Find $SD(\\bar{X})$.\n",
    "\n",
    "**c)** In the German tanks problem, we constructed $\\hat{N} = 2\\bar{X} - 1$ as an unbiased estimator of $N$. (Statisticians often use \"hat\" notation to represent estimators.) You know that $E(\\hat{N}) = N$. Find $SD(\\hat{N})$.\n",
    "\n",
    "**d)** Explain how $\\hat{N}$ becomes a better estimator of the population size $N$ as the sample size $n$ gets large."
   ]
  },
  {
   "cell_type": "markdown",
   "metadata": {},
   "source": [
    "**5.** \n",
    "The number of typos on the cover page of an exam has a distribution given by\n",
    "\n",
    "|value|$0$|$1$|\n",
    "|----:|:---:|:---:|\n",
    "|**probability**|$0.8$|$0.2$|\n",
    "\n",
    "The number of misprints in the rest of the exam has the Poisson $(3)$ distribution, independently of the cover page.\n",
    "\n",
    "Find the expectation and SD of the total number of misprints on the exam."
   ]
  },
  {
   "cell_type": "markdown",
   "metadata": {},
   "source": [
    "**6**. Let $X$ have the Poisson $(\\mu)$ distribution. Let $Y$ have the Poisson $(\\lambda)$ distribution and suppose $X$ and $Y$ are independent.\n",
    "\n",
    "**a)** Use properties of expectation and variance to find $E(X+Y)$ and $SD(X+Y)$.\n",
    "\n",
    "**b)** What is the distribution of $X+Y$? Check that your answer is consistent with your answer to Part **a**."
   ]
  },
  {
   "cell_type": "markdown",
   "metadata": {},
   "source": [
    "**7.**\n",
    "A coin is tossed repeatedly. Find the expectation and SD of the number of tosses required to get a total of three heads."
   ]
  },
  {
   "cell_type": "markdown",
   "metadata": {},
   "source": [
    "**8.**\n",
    "A randomized controlled experiment has 50 participants of whom 30 are men. A simple random sample of 25 participants is assigned to the treatment group and the rest to control.\n",
    "\n",
    "Let $M_T$ be the number of men in the treatment group and let $M_C$ be the number of men in the control group.\n",
    "\n",
    "**a)** Find $E(M_T)$ and $SD(M_T)$.\n",
    "\n",
    "**b)** Find $E(M_C)$ and $SD(M_C)$.\n",
    "\n",
    "**c)** True or false: $Var(M_T + M_C) = Var(M_T) + Var(M_C)$."
   ]
  },
  {
   "cell_type": "markdown",
   "metadata": {},
   "source": [
    "**9.**\n",
    "In a country, State A has 40 million people and State B has 10 million people. The two states have the same proportion of college graduates.\n",
    "\n",
    "In each of part below, pick one of the three options without calculation and explain your choice.\n",
    "\n",
    "**a)** In each state, a simple random sample of 500 people is taken. The SD of the number of college graduates in the sample from State A is\n",
    "\n",
    "**(i)** quite a bit less than\n",
    "\n",
    "**(ii)** about the same as\n",
    "\n",
    "**(iii)** quite a bit more than\n",
    "\n",
    "the SD of the number of college graduates in the sample from State B.\n",
    "\n",
    "**b)** In each state, a simple random sample of 0.01% of the population is taken. The SD of the number of college graduates in the sample from State A is\n",
    "\n",
    "**(i)** quite a bit less than\n",
    "\n",
    "**(ii)** about the same as\n",
    "\n",
    "**(iii)** quite a bit more than\n",
    "\n",
    "the SD of the number of college graduates in the sample from State B."
   ]
  },
  {
   "cell_type": "markdown",
   "metadata": {},
   "source": [
    "**10.**\n",
    "A non-negative integer valued random variable has expectation 50 and SD 10. Could the random variable have a binomial distribution?"
   ]
  },
  {
   "cell_type": "markdown",
   "metadata": {},
   "source": [
    "**11.** \n",
    "Each Data 8 student is asked to draw a random sample and estimate a parameter using a method that has chance 95% of resulting in a good estimate. \n",
    "\n",
    "Suppose there are 1300 students in Data 8. Let $X$ be the number of students who get a good estimate. Assume that all the students' samples are independent of each other. \n",
    "\n",
    "**a)** Find the distribution of $X$.\n",
    "\n",
    "**b)** Find $E(X)$ and $SD(X)$.\n",
    "\n",
    "**c)** Find the chance that more than 1250 students get a good estimate."
   ]
  },
  {
   "cell_type": "markdown",
   "metadata": {},
   "source": [
    "**12.**\n",
    "In a population of size 100 there are 50 women, 20 unemployed people, and 80 college graduates. \n",
    "\n",
    "A simple random sample of 30 people is taken. In the sample, let $W$ be the number of women, $U$ the number unemployed, and $C$ the number of college graduates.\n",
    "\n",
    "**a)** Without calculation (other than obvious conversions to percents or proportions), rank $E(W)$, $E(U)$, and $E(C)$ in increasing order. If you think two of the values are equal, put an $=$ sign between them.\n",
    "\n",
    "**b)** Without calculation (other than obvious conversions to percents or proportions), rank $SD(W)$, $SD(U)$, and $SD(C)$ in increasing order. If you think two of the values are equal, put an $=$ sign between them."
   ]
  },
  {
   "cell_type": "code",
   "execution_count": null,
   "metadata": {},
   "outputs": [],
   "source": []
  }
 ],
 "metadata": {
  "kernelspec": {
   "display_name": "Python 3",
   "language": "python",
   "name": "python3"
  },
  "language_info": {
   "codemirror_mode": {
    "name": "ipython",
    "version": 3
   },
   "file_extension": ".py",
   "mimetype": "text/x-python",
   "name": "python",
   "nbconvert_exporter": "python",
   "pygments_lexer": "ipython3",
   "version": "3.12.5"
  }
 },
 "nbformat": 4,
 "nbformat_minor": 4
}