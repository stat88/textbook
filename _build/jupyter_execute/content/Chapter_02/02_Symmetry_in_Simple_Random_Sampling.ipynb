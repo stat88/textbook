{
 "cells": [
  {
   "cell_type": "markdown",
   "metadata": {},
   "source": [
    "## Symmetry in Simple Random Sampling ##"
   ]
  },
  {
   "cell_type": "markdown",
   "metadata": {},
   "source": [
    "Sampling individuals at random without replacement is one of the most natural ways to collect a random sample from a finite population. It is called *simple random sampling* and will be studied extensively in this course.\n",
    "\n",
    "But before we get to large populations, we will examine simple random sampling in the context of dealing hands of cards from a deck (or population) of size 52. This will help us see some beautiful symmetries that arise when we sample at random without replacement."
   ]
  },
  {
   "cell_type": "markdown",
   "metadata": {},
   "source": [
    "### Product Rule of Counting ###\n",
    "We saw earlier that if you deal five cards from a well-shuffled deck then\n",
    "\n",
    "$$\n",
    "P(\\text{all five are hearts}) ~ = ~ \\frac{13}{52} \\cdot \\frac{12}{51} \\cdot \\frac{11}{50} \\cdot \\frac{10}{49} \\cdot \\frac{9}{48}\n",
    "$$\n",
    "\n",
    "Those products are worth a second look.\n",
    "\n",
    "If you deal one card, the number of possible outcomes is 52.\n",
    "\n",
    "If you deal two cards without replacement, the number of possible pairs (first card, second card) is $52 \\times 51$.\n",
    "\n",
    "- There are 52 options for the first card.\n",
    "- For each of these options, there are 51 options for the second card.\n",
    "- So the total number of (first card, second card) pairs is $52 \\times 51$.\n",
    "\n",
    "By extension, the total number of sequences of five cards (first, second, third, fourth, fifth) is $52 \\times 51 \\times 50 \\times 49 \\times 48$, the denominator in the answer above.\n",
    "\n",
    "The numerator is the number of sequences in which all five cards are hearts.\n",
    "\n",
    "Note that a sequence keeps track of the cards in order: the sequence *a, b, c* is different from *b, c, a*.\n",
    "\n",
    "The *product rule of counting* says that if you are constructing a sequence of items in $k$ stages, and the number of options at Stage $i$ is $n_i$, then the total number of sequences you can create is $n_1n_2n_3 \\ldots n_k$.\n",
    "\n",
    "Even simple experiments can have a large number of possible outcomes.\n",
    "\n",
    "- If you roll a die 3 times, there are $6^3 = 216$ sequences of faces.\n",
    "- If you toss a coin 10 times, there are $2^{10} = 1024$ possible sequences of heads and tails.\n",
    "- If you deal all 52 cards in a standard deck, there are $52!$ possible sequences or *permutations*. That'a lot of possibilities:"
   ]
  },
  {
   "cell_type": "code",
   "execution_count": 1,
   "metadata": {},
   "outputs": [
    {
     "data": {
      "text/plain": [
       "80658175170943878571660636856403766975289505440883277824000000000000"
      ]
     },
     "execution_count": 1,
     "metadata": {},
     "output_type": "execute_result"
    }
   ],
   "source": [
    "import math\n",
    "math.factorial(52)"
   ]
  },
  {
   "cell_type": "markdown",
   "metadata": {},
   "source": [
    "If an outcome space is enormous then events in which we are interested might be large as well. It's not pleasant to contemplate listing all the outcomes in an event that contains millions of them. So instead, let's see if we can find some simplifications."
   ]
  },
  {
   "cell_type": "markdown",
   "metadata": {},
   "source": [
    "### Symmetry ###\n",
    "The deck has an equal number of red and black cards: hearts and diamonds are red and spades and clubs are black.\n",
    "\n",
    "If you deal two cards (from now on, we will not keep saying \"without replacement\"), what is the chance that the second card is red?\n",
    "\n",
    "Had the question been about the first card, the answer would have been immediate: $26/52$.\n",
    "\n",
    "But it's about the second card. Here are a few ways to go about answering. By the end, you'll see which one is the best.\n",
    "\n",
    "**Answer 1:** You can slog through the calculation by partitioning the event according to what the first card was. If $B_i$ is the event that a black card appears at Position $i$ and $R_i$ is the event that a red card appears at Position $i$, then\n",
    "\n",
    "$$\n",
    "\\begin{align*}\n",
    "P(R_2) ~ &= ~ P(B_1R_2) + P(R_1R_2) \\\\\n",
    "&= ~ \\frac{26}{52} \\cdot \\frac{26}{51} + \\frac{26}{52} \\cdot \\frac{25}{51} \\\\\n",
    "&= ~ \\frac{26}{52} \\big{(} \\frac{26}{51} + \\frac{25}{51} \\big{)} \\\\\n",
    "&= ~ \\frac{26}{52} \\cdot \\frac{51}{51} \\\\\n",
    "&= ~ \\frac{26}{52}\n",
    "\\end{align*}\n",
    "$$"
   ]
  },
  {
   "cell_type": "markdown",
   "metadata": {},
   "source": [
    "Aha! The chance that the second card is red is the same as the chance that the first card is red!\n",
    "\n",
    "When you get a simple answer like this, always try to understand it better. There might be a simpler explanation that you have missed.\n",
    "\n",
    "**Answer 2:** Another way to find $P(R_2)$ is to count all the pairs (first card, second card) and also count all the pairs in which the second card is red. Then $P(R_2)$ is the second count divided by the first.\n",
    "\n",
    "The denominator is $52 \\times 51$ as we already know.\n",
    "\n",
    "There are several ways to evaluate the numerator. Let's use one of the simpler ones. It relies on noticing that you get to decide what the \"first stage\" in your construction of the pair should be.\n",
    "\n",
    "- Place a red card in Position 2. There are 26 ways to do this.\n",
    "- Now place any of the remaining cards in Position 1. There are 51 ways to do this. \n",
    "\n",
    "The numerator is therefore $51 \\times 26$. Now we have\n",
    "\n",
    "$$\n",
    "P(R_2) ~ = ~ \\frac{51 \\times 26}{52 \\times 51} ~ = ~ \\frac{26}{52}\n",
    "$$\n",
    "\n",
    "That's simpler than Answer 1 but it still doesn't get to the heart of the matter. Answer 3 does.\n",
    "\n",
    "**Answer 3:** If someone deals all 52 cards and shows you the entire sequence backwards, you would not be able to tell that it was backwards. If they dealt the cards in a circle, you would not be able to tell which was the first card they dealt.\n",
    "\n",
    "It doesn't matter which position you are looking at. What matters is that you don't know anything about the cards at the other positions. So every card is equally likely to be at the position you are considering. That means\n",
    "\n",
    "$$\n",
    "P(R_2) ~ = ~  P(R_1) ~ = ~ P(R_{17}) ~ = ~ P(R_i) ~ = ~ \\frac{26}{52} ~~~ \\text{for every } i = 1, 2, \\ldots , 52\n",
    "$$\n",
    "\n",
    "This symmetry is very powerful and saves a lot of calculation. \n",
    "\n",
    "For example, if you deal a deck of cards then\n",
    "\n",
    "$$\n",
    "\\begin{align*}\n",
    "P(R_{20}R_{33}) ~ &= ~ \\frac{26}{52} \\cdot \\frac{25}{51} \\\\ \\\\\n",
    "P(R_{20}B_{33}) ~ &= ~ \\frac{26}{52} \\cdot \\frac{26}{51} \\\\ \\\\\n",
    "P(B_{18} \\mid R_{21}R_{40}) ~ &= ~ \\frac{26}{50} \n",
    "\\end{align*}\n",
    "$$\n",
    "\n",
    "and so on."
   ]
  },
  {
   "cell_type": "code",
   "execution_count": null,
   "metadata": {},
   "outputs": [],
   "source": []
  }
 ],
 "metadata": {
  "kernelspec": {
   "display_name": "Python 3",
   "language": "python",
   "name": "python3"
  },
  "language_info": {
   "codemirror_mode": {
    "name": "ipython",
    "version": 3
   },
   "file_extension": ".py",
   "mimetype": "text/x-python",
   "name": "python",
   "nbconvert_exporter": "python",
   "pygments_lexer": "ipython3",
   "version": "3.12.5"
  }
 },
 "nbformat": 4,
 "nbformat_minor": 4
}