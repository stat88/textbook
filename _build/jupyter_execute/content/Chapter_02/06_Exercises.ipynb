{
 "cells": [
  {
   "cell_type": "markdown",
   "metadata": {},
   "source": [
    "## Exercises ##"
   ]
  },
  {
   "cell_type": "markdown",
   "metadata": {},
   "source": [
    "**1.** \n",
    "There are 2,598,960 different poker hands. Suppose I play poker two times so that each time all hands are equally likely regardless of which hand I got the other time. The chance that I get the same hand both times is equal to (pick one and explain):\n",
    "\n",
    "(i) $\\frac{1}{2598960} \\times \\frac{1}{2598960}$  \n",
    "\n",
    "(ii) $\\frac{1}{2598960}$ \n",
    "\n",
    "(iii) Neither (i) nor (ii)"
   ]
  },
  {
   "cell_type": "markdown",
   "metadata": {},
   "source": [
    "**2.**\n",
    "A population consists of equal numbers of students in four categories: freshman, sophomore, junior, and senior.\n",
    "\n",
    "**a)** Suppose there are 8 people in the population, and a simple random sample of 4 people is drawn. What is the chance that the sample contains all four categories?\n",
    "\n",
    "**b)** Suppose there are 800 people in the population, and a simple random sample of 4 people is drawn. What is the chance that the sample contains all four categories?\n",
    "\n",
    "**c)** Repeat Parts **a** and **b** assuming in both parts that the sample was drawn *with* replacement. You now have four numerical answers: the answers to **a** and **b**, and the two you calculated in this part. Give an intuitive explanation of why two of the four numbers are equal, another one is pretty close, and one is quite different."
   ]
  },
  {
   "cell_type": "markdown",
   "metadata": {},
   "source": [
    "**3.**\n",
    "The English alphabet consists of 26 letters. Six letters will be chosen at random without replacement.\n",
    "\n",
    "**a)** How many possible sequences of six letters can appear? \n",
    "\n",
    "**b)** What is the chance that the sequence is RANDOM?\n",
    "\n",
    "**c)** What is the chance that the sequence is not RANDOM but the letters can be rearranged to form RANDOM?"
   ]
  },
  {
   "cell_type": "markdown",
   "metadata": {},
   "source": [
    "**4.**\n",
    "A class has eight sections, five of which are in the morning and three in the afternoon. The instructor picks two sections at random without replacement.\n",
    "\n",
    "Say whether each of the following statements is true or false, and justify your answer.\n",
    "\n",
    "**a)** The chance that the first section picked by the instructor is in the morning is $5/8$.\n",
    "\n",
    "**b)** The chance that the second section picked by the instructor is in the morning is $5/8$.\n",
    "\n",
    "**c)** The chance that both sections picked by the instructor are in the morning is $(5/8)(5/8)$."
   ]
  },
  {
   "cell_type": "markdown",
   "metadata": {},
   "source": [
    "**5.**\n",
    "There are $n$ students in a class. Assume that each student's birthday is equally likely to be any of 365 days of the year, regardless of the birthdays of others. \n",
    "\n",
    "**a)** What is the chance that at least one of the students was born on January 1?\n",
    "\n",
    "**b)** What is the chance that at least two students have the same birthday?"
   ]
  },
  {
   "cell_type": "markdown",
   "metadata": {},
   "source": [
    "**6.**\n",
    "There are three boxes, each of which contains two coins. One box has two gold coins, one has two silver coins, and one has a gold coin and a silver coin. A box is picked at random and then a coin is picked at random from the box. Given that the coin is gold, what is the chance that the other coin in the box is silver?"
   ]
  },
  {
   "cell_type": "markdown",
   "metadata": {},
   "source": [
    "**7.**\n",
    "In a community, each child born is equally likely to be a boy or a girl regardless of the sex of all others. A family in this community has two children. You see one of them and note that the child is a girl. What is the chance that the other child is a boy? Pick one of the options below and justify your choice.\n",
    "\n",
    "(i) $1/4$ \n",
    "\n",
    "(ii) $1/3$ \n",
    "\n",
    "(iii) $1/2$ \n",
    "\n",
    "(iv) $2/3$"
   ]
  },
  {
   "cell_type": "markdown",
   "metadata": {},
   "source": [
    "**8.**\n",
    "A club is selling 100 raffle tickets, 5 of which are winning tickets. Assume that tickets are sold one at a time, one ticket per buyer, and that they are like draws made at random without replacement from all the tickets.\n",
    "\n",
    "Lin and Rishab are 16th and 28th in the line to buy tickets. After much waiting, they finally get their tickets.\n",
    "\n",
    "If possible, find the following probabilities. If it is not possible, explain why not.\n",
    "\n",
    "**a)** Lin gets a winning ticket\n",
    "\n",
    "**b)** Rishab gets a winning ticket\n",
    "\n",
    "**c)** only one of Lin and Rishab gets a winning ticket"
   ]
  },
  {
   "cell_type": "markdown",
   "metadata": {},
   "source": [
    "**9.**\n",
    "A factory has two widget-producing machines. Machine I produces 80% of the factory's widgets and Machine II produces the rest. Of the widgets produced by Machine I, 95% are of acceptable quality. Machine II is less reliable – only 85% of its widgets are acceptable.\n",
    "\n",
    "Suppose you pick a widget at random from those produced at the factory. \n",
    "\n",
    "**a)** Find the chance that the widget is acceptable, given that it is produced by Machine I.\n",
    "\n",
    "**b)** Find the chance that the widget is produced by Machine I, given that it is acceptable."
   ]
  },
  {
   "cell_type": "markdown",
   "metadata": {},
   "source": [
    "**10.**\n",
    "A company has to provide passcodes to each of $n$ clients. Passcodes will be chosen from a set of $N$ available codes, which for simplicity we will call Code 1, Code 2, and so on. The company decides to choose $n$ codes at random from the $N$ available codes. Under each sampling scheme below, find the chance that Code 1 is chosen. \n",
    "\n",
    "**a)** The codes are chosen at random with replacement.\n",
    "\n",
    "**b)** The codes are chosen at random without replacement."
   ]
  },
  {
   "cell_type": "markdown",
   "metadata": {},
   "source": [
    "**11.**\n",
    "[Daniel Kahneman](https://en.wikipedia.org/wiki/Daniel_Kahneman) and the late [Amos Tversky](https://en.wikipedia.org/wiki/Amos_Tversky) looked deeply into people's biases and perceptions of risk. Kahneman's book [Thinking Fast and Slow](https://en.wikipedia.org/wiki/Thinking,_Fast_and_Slow) became a New York Times bestseller – read it! In it Kahneman describes a study with Tversky in which they asked people the following question.\n",
    "\n",
    "\"A cab was involved in a hit and run accident at night. Two cab companies, the Green and the Blue, operate in the city. You are given the following data:\n",
    "\n",
    "- 85% of the cabs in the city are Green and 15% are Blue. \n",
    "- A witness identified the cab as Blue. The court tested the reliability of the witness under the same circumstances that existed on the night of the accident and concluded that the witness correctly identified each one of the two colors 80% of the time and failed 20% of the time.\n",
    "\n",
    "What is the probability that the cab involved in the accident was Blue rather than Green?\"\n",
    "\n",
    "The most common answer was 80%. What is your answer?"
   ]
  },
  {
   "cell_type": "markdown",
   "metadata": {},
   "source": [
    "**12.**\n",
    "Investigators at the scene of a crime find a footprint that shows a distinctive pattern on the sole. They identify the type of shoe, and then they find that their prime suspect owns that kind of shoe. They put this person on trial for the crime.\n",
    "\n",
    "After looking at sales patterns and so on, the investigators find that of the 10,000 other people who could have committed the crime, 1 in 1,000 own that kind of shoe. \n",
    "\n",
    "The prosecution says that given this evidence, the chance that the defendant was not at the crime scene is 1 in 1000.\n",
    "\n",
    "**a)** The prosecution has made an error called the \"prosecutor fallacy.\" What is wrong with the statement that they have made?\n",
    "\n",
    "**b)** Help the legal teams by finding the probability that the defendant is guilty given only the evidence described in this exercise. State the assumptions you are making about randomness.\n",
    "\n",
    "[It might be easier to work in counts instead of percents. Start with the 10,001 people who could have been at the scene, only one of whom is guilty. And make the reasonable assumption that the guilty person is sure to own the type of shoe identified at the crime scene.]\n",
    "\n"
   ]
  },
  {
   "cell_type": "code",
   "execution_count": null,
   "metadata": {},
   "outputs": [],
   "source": []
  }
 ],
 "metadata": {
  "kernelspec": {
   "display_name": "Python 3 (ipykernel)",
   "language": "python",
   "name": "python3"
  },
  "language_info": {
   "codemirror_mode": {
    "name": "ipython",
    "version": 3
   },
   "file_extension": ".py",
   "mimetype": "text/x-python",
   "name": "python",
   "nbconvert_exporter": "python",
   "pygments_lexer": "ipython3",
   "version": "3.12.5"
  }
 },
 "nbformat": 4,
 "nbformat_minor": 4
}