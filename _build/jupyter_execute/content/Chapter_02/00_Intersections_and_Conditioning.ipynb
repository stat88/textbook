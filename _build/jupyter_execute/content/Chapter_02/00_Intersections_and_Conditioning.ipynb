{
 "cells": [
  {
   "cell_type": "markdown",
   "metadata": {},
   "source": [
    "# Intersections and Conditioning #"
   ]
  },
  {
   "cell_type": "markdown",
   "metadata": {},
   "source": [
    "The main axiom of probability specifies the chance of the union of mutually exclusive events. As you have seen, when events are not mutually exclusive we have to understand their overlap or *intersection* in order to find the chance of the union.\n",
    "\n",
    "Probabilists and data scientists are often interested in chances of intersections. The chance that we lose all our bets, or that a randomly picked person is at risk for a disease and doesn't have health insurance, are just two examples. So when it comes to intersections, probabilists have shortened even the standard notation of set theory.\n",
    "\n",
    "In the figure below, the deeper blue region is the event $A \\cap B$, the intersection of the events $A$ and $B$. It consists of the outcomes that are in $A$ as well as in $B$. We are too lazy to write the $\\cap$ and just denote the intersection $AB$. Keep in mind that this does *not* denote a product of the two events.\n",
    "\n",
    "![intersection](../images/intersection.png)\n",
    "\n",
    "In this chapter we will see how to find the chance of an intersection of events and hence also of a union of overlapping events. In doing so we will give a general definition of conditional probability and see how the probability of an event changes based on information related to the event.\n",
    "\n",
    "Bayes' Rule is the data scientist's fundamental method of updating probabilities based on new information. We will end this chapter with Bayes' Rule and some of its implications. For now, just enjoy a [Scientific American blog post](https://blogs.scientificamerican.com/cross-check/bayes-s-theorem-what-s-the-big-deal/) about what Bayes' Rule can do. Or at least just look at the picture that it starts out with: Sheldon of the Big Bang Theory has written Bayes' Rule at the top of the board, just above another probability fact that you will recognize.\n",
    "\n",
    "![Sheldon and Bayes](../images/sheldon.png)"
   ]
  },
  {
   "cell_type": "code",
   "execution_count": null,
   "metadata": {},
   "outputs": [],
   "source": []
  }
 ],
 "metadata": {
  "kernelspec": {
   "display_name": "Python 3",
   "language": "python",
   "name": "python3"
  },
  "language_info": {
   "codemirror_mode": {
    "name": "ipython",
    "version": 3
   },
   "file_extension": ".py",
   "mimetype": "text/x-python",
   "name": "python",
   "nbconvert_exporter": "python",
   "pygments_lexer": "ipython3",
   "version": "3.12.5"
  }
 },
 "nbformat": 4,
 "nbformat_minor": 4
}