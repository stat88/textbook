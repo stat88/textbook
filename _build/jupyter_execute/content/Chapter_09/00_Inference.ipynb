{
 "cells": [
  {
   "cell_type": "markdown",
   "metadata": {},
   "source": [
    "# Inference #"
   ]
  },
  {
   "cell_type": "markdown",
   "metadata": {},
   "source": [
    "In probability theory, we are interested in outcomes of experiments that involve chance. We start with a probabilistic *model*, which is a set of assumptions about the chances governing the experiment. We can then calculate probabilities for how the experiment could come out. \n",
    "\n",
    "Statistical inference works in the opposite order. We start with observed outcomes of an experiment. We then try to work backwards to make *inferences* about the experiment that led to the observed outcomes. That is, we try to make conclusions about the chance processes that generated the data.\n",
    "\n",
    "Data 8 addresses several questions of statistical inference, using simulation and the bootstrap as its primary methods. In particular, it covers *tests of hypotheses* about the process that generated the data, and also *estimation* of unknown parameters of that process. In this chapter we address the same questions with a more theoretical perspective."
   ]
  }
 ],
 "metadata": {
  "kernelspec": {
   "display_name": "Python 3",
   "language": "python",
   "name": "python3"
  },
  "language_info": {
   "codemirror_mode": {
    "name": "ipython",
    "version": 3
   },
   "file_extension": ".py",
   "mimetype": "text/x-python",
   "name": "python",
   "nbconvert_exporter": "python",
   "pygments_lexer": "ipython3",
   "version": "3.12.5"
  }
 },
 "nbformat": 4,
 "nbformat_minor": 4
}