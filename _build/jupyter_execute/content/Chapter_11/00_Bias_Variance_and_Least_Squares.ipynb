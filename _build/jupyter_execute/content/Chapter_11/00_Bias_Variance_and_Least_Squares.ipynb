{
 "cells": [
  {
   "cell_type": "markdown",
   "metadata": {},
   "source": [
    "# Bias, Variance, and Least Squares #"
   ]
  },
  {
   "cell_type": "markdown",
   "metadata": {},
   "source": [
    "In this chapter we will attempt to answer some general questions about estimators.\n",
    "\n",
    "- How can we measure the accuracy of an estimator?\n",
    "- What factors lead to error in estimation? Can we quantify them?\n",
    "- When we have two different estimators of the same unknown quantity, what are some factors to consider when deciding which one to use?\n",
    "- What are some criteria for an estimator to be good?\n",
    "- How do we construct good estimators?\n",
    "\n",
    "In the process we will define and contrast the bias of an estimator and the variability of the estimator. \n",
    "\n",
    "We will then use the criterion of least squares to derive the best linear predictor of one variable based on another. This is the regression line, familiar to you from Data 8. The calculation will include a justification of Data 8's definition of the correlation coefficient. Finally, we will prove that the correlation coefficient is a number between $-1$ and $1$."
   ]
  },
  {
   "cell_type": "code",
   "execution_count": null,
   "metadata": {},
   "outputs": [],
   "source": []
  }
 ],
 "metadata": {
  "kernelspec": {
   "display_name": "Python 3",
   "language": "python",
   "name": "python3"
  },
  "language_info": {
   "codemirror_mode": {
    "name": "ipython",
    "version": 3
   },
   "file_extension": ".py",
   "mimetype": "text/x-python",
   "name": "python",
   "nbconvert_exporter": "python",
   "pygments_lexer": "ipython3",
   "version": "3.12.5"
  }
 },
 "nbformat": 4,
 "nbformat_minor": 4
}