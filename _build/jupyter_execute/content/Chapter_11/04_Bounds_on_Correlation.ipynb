{
 "cells": [
  {
   "cell_type": "markdown",
   "metadata": {},
   "source": [
    "## Bounds on Correlation ##"
   ]
  },
  {
   "cell_type": "markdown",
   "metadata": {},
   "source": [
    "For a random pair $(X, Y)$, the correlation $r(X, Y)$ is defined as\n",
    "\n",
    "$$\n",
    "r(X, Y) ~ = ~ E\\Bigg( \\left(\\frac{X-\\mu_X}{\\sigma_X}\\right)\\left(\\frac{Y-\\mu_Y}{\\sigma_Y}\\right) \\Bigg) ~ = ~ E(X^*Y^*)\n",
    "$$\n",
    "\n",
    "where $X^*$ and $Y^*$ are respectively $X$ and $Y$ measured in standard units.\n",
    "\n",
    "Thus by definition, correlation is a pure number and has no units.\n",
    "\n",
    "You have seen several properties of correlation in Data 8. Some are obvious, such as $r(X, Y) = r(Y, X)$. Some require proof.\n",
    "\n",
    "In this brief section we will prove one principal property, which is that correlation is a number between $-1$ and $1$. You will prove a few other properties in exercises. In the next section we will specify the sense in which correlation measures clustering about a straight line."
   ]
  },
  {
   "cell_type": "markdown",
   "metadata": {},
   "source": [
    "### Lower Bound ###\n",
    "As a preliminary, recall that\n",
    "\n",
    "$$\n",
    "E(X^*) = 0, ~~~ Var(X^*) = 1 = E\\left({X^*}^2\\right)\n",
    "$$\n",
    "\n",
    "So also $E(Y^*) = 0$ and $E\\left({Y^*}^2\\right) = 1$. \n",
    "\n",
    "We know the expected squares, and what we need is a bound on the expected product $E(X^*Y^*)$. A result that connects the squares and the product of two numbers is $(a+b)^2 = a^2 + 2ab + b^2$.\n",
    "\n",
    "So let's find $E\\left((X^* + Y^*)^2\\right)$ and see what that gives us.\n",
    "\n",
    "$$\n",
    "\\begin{align*}\n",
    "E\\left((X^* + Y^*)^2\\right) ~ &= ~ E\\left({X^*}^2\\right) + 2E(X^*Y^*) + E\\left({Y^*}^2\\right) \\\\\n",
    "&= ~ 2 + 2E(X^*Y^*)\n",
    "\\end{align*}\n",
    "$$\n",
    "\n",
    "Since $E\\big{(}(X^* + Y^*)^2\\big{)} \\ge 0$, we have\n",
    "\n",
    "$$\n",
    "2 + 2E(X^*Y^*) \\ge 0\n",
    "$$\n",
    "\n",
    "which is the same as\n",
    "\n",
    "$$\n",
    "E(X^*Y^*) \\ge -1\n",
    "$$"
   ]
  },
  {
   "cell_type": "markdown",
   "metadata": {},
   "source": [
    "### Upper Bound ###\n",
    "Play the same game with $E\\big{(}(X^* - Y^*)^2\\big{)}$ to see that\n",
    "\n",
    "\n",
    "$$\n",
    "2 - 2E(X^*Y^*) \\ge 0\n",
    "$$\n",
    "\n",
    "which is the same as\n",
    "\n",
    "$$\n",
    "E(X^*Y^*) \\le 1\n",
    "$$\n",
    "\n",
    "because division by $-2$ flips the direction of the inequality."
   ]
  },
  {
   "cell_type": "markdown",
   "metadata": {},
   "source": [
    "### Other Properties ###\n",
    "\n",
    "As you know from Data 8, correlation measures linear association. In exercises you will show that if $Y$ is a linear function of $X$ then $r(X, Y)$ is either $1$ or $-1$.\n",
    "\n",
    "You will also find the relation between $r(X, Y)$ and $r(X, W)$ where $W$ is a linear function of $Y$.\n",
    "\n",
    "In the next section we will return to regression and formalize the idea that correlation measures clustering about a straight line. Our result will imply that if $r(X, Y)$ is either $1$ or $-1$, then the relation between $X$ and $Y$ must be perfectly linear."
   ]
  },
  {
   "cell_type": "code",
   "execution_count": null,
   "metadata": {},
   "outputs": [],
   "source": []
  }
 ],
 "metadata": {
  "kernelspec": {
   "display_name": "Python 3",
   "language": "python",
   "name": "python3"
  },
  "language_info": {
   "codemirror_mode": {
    "name": "ipython",
    "version": 3
   },
   "file_extension": ".py",
   "mimetype": "text/x-python",
   "name": "python",
   "nbconvert_exporter": "python",
   "pygments_lexer": "ipython3",
   "version": "3.12.5"
  }
 },
 "nbformat": 4,
 "nbformat_minor": 4
}