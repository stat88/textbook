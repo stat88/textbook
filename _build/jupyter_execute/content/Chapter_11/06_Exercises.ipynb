{
 "cells": [
  {
   "cell_type": "markdown",
   "metadata": {},
   "source": [
    "## Exercises ##"
   ]
  },
  {
   "cell_type": "markdown",
   "metadata": {},
   "source": [
    "**1.** \n",
    "Let $\\theta_1 < \\theta_2$ and suppose $X_1, X_2, \\ldots, X_n$ are i.i.d. uniform on the interval $(\\theta_1, \\theta_2)$. Let $\\theta = \\theta_2 - \\theta_1$ be the length of the interval.\n",
    "\n",
    "**a)** Let $M_1 = \\min(X_1, X_2, \\ldots, X_n)$ be the sample minimum and $M_2 = \\max(X_1, X_2, \\ldots, X_n)$ the sample max. The statistic $T_1 = M_2 - M_1$ is called the *range* of the sample and is a natural estimator of $\\theta$. Without calculation, explain why $T_1$ is biased, and say whether it underestimates or overestimates $\\theta$.\n",
    "\n",
    "**b)** Find the bias of $T_1$ and confirm that its sign is consistent with your answer to Part **a**. For large $n$, is the size of the bias large or small?\n",
    "\n",
    "**c)** Use $T_1$ to construct an unbiased estimator of $\\theta$. Call the new estimator $T_2$.\n",
    "\n",
    "**d)** Compare $SD(T_1)$ and $SD(T_2)$. Which one is bigger? For large $n$, is it a lot bigger or just a bit bigger?"
   ]
  },
  {
   "cell_type": "markdown",
   "metadata": {},
   "source": [
    "**2.** Let $(X, Y)$ be a random pair and let $\\hat{Y}$ be the linear regression estimate of $Y$ based on $X$.\n",
    "\n",
    "**a)** Show that the regression line passes through the point of averages by setting $X = \\mu_X$ and finding the corresponding value of $\\hat{Y}$.\n",
    "\n",
    "**b)** Find $E(\\hat{Y})$, the average of the fitted values.\n",
    "\n",
    "**c)** Let $D = Y - \\hat{Y}$ be the residual. Find the expectation of the residual and confirm that the answer justifies the following statement [from Data 8](https://inferentialthinking.com/chapters/15/6/Numerical_Diagnostics.html#average-of-residuals):\n",
    "\n",
    "\"No matter what the shape of the scatter diagram, the average of the residuals is 0.\""
   ]
  },
  {
   "cell_type": "markdown",
   "metadata": {},
   "source": [
    "**3.**\n",
    "Sometimes data scientists want to fit a linear model that has no intercept term. For example, this might be the case when the data are from a scientific experiement in which the attribute $X$ can have values near $0$ and there is a physical reason why the response $Y$ must be $0$ when $X=0$.\n",
    "\n",
    "So let $(X, Y)$ be a random pair and suppose you want to predict $Y$ by an estimator of the form $aX$ for some $a$. Find the least squares predictor $\\hat{Y}$ among all predictors of this form."
   ]
  },
  {
   "cell_type": "markdown",
   "metadata": {},
   "source": [
    "**4.**\n",
    "Let $(X, Y)$ be a random pair.\n",
    "\n",
    "**a)** For constants $a \\ne 0$ and $b$, let $V = aX + b$. Apply the definition of correlation to find $r(X, V)$. [It might be easier to separate the cases $a < 0$ and $a > 0$.]\n",
    "\n",
    "**b)** For constants $a \\ne 0$ and $b$, let $W = aY + b$. Find $r(X, W)$ in terms of $r(X, Y)$. "
   ]
  },
  {
   "cell_type": "markdown",
   "metadata": {},
   "source": [
    "**5.**\n",
    "Let $(X, Y)$ be a random pair and let $r = r(X,Y)$. Let $X^*$ be $X$ in standard units and let $Y^*$ be $Y$ in standard units.\n",
    "\n",
    "**a)** Find $r(X^*, Y^*)$.\n",
    "\n",
    "**b)** Write the equation for $\\hat{Y^*}$, the least squares linear predictor of $Y^*$ based on $X^*$."
   ]
  },
  {
   "cell_type": "markdown",
   "metadata": {},
   "source": [
    "**6.** \n",
    "It can be shown that for many football-shaped scatter diagrams it is OK to assume that each of the two variables is normally distributed. \n",
    "\n",
    "Suppose that a large number of students take two tests (like the Math and Verbal SAT), and suppose that the scatter diagram of the two scores is football shaped with a correlation of 0.6. \n",
    "\n",
    "**a)** Let $(X, Y)$ be the scores of a randomly picked student, and suppose $X$ is on the the 90th percentile. Estimate the percentile rank of $Y$.\n",
    "\n",
    "**b)** Let $(X, Y)$ be the score of a randomly picked student, and suppose $Y$ is on the 78th percentile. Estimate the percentile rank of $X$."
   ]
  },
  {
   "cell_type": "markdown",
   "metadata": {},
   "source": [
    "**7.** Let  $(X,Y)$  be a random pair and let $\\hat{Y}$ be the linear regression estimate of $Y$ based on $X$.\n",
    "\n",
    "**a)** Find $Var(\\hat{Y})$.\n",
    "\n",
    "**b)** Show that the answer to Part **a** justifies the following statement [from Data 8](https://inferentialthinking.com/chapters/15/6/Numerical_Diagnostics.html#another-way-to-interpret-r):\n",
    "\n",
    "$$\\frac{\\text{SD of fitted values}}{\\text{SD of } y} = \\vert r\\vert$$"
   ]
  },
  {
   "cell_type": "markdown",
   "metadata": {},
   "source": [
    "**8.**\n",
    "Let $(X, Y)$ be a random pair and let $\\hat{Y}$ be the linear regression estimate of $Y$ based on $X$. Let $D = Y - \\hat{Y}$ be the residual.\n",
    "\n",
    "Justify the *decomposition of variance* formula $Var(Y) = Var(\\hat{Y}) + Var(D)$. \n",
    "\n",
    "\n"
   ]
  },
  {
   "cell_type": "markdown",
   "metadata": {},
   "source": [
    "**9.**\n",
    "Let $X$ be a random variable with expectation $\\mu_X$ and SD $\\sigma_X$. Suppose you are going to use a constant $c$ as your predictor of $X$.\n",
    "\n",
    "**a)** Let $MSE(c)$ be the mean squared error of the predictor $c$. Write a formula for $MSE(c)$.\n",
    "\n",
    "**b)** Find $\\hat{c}$, the least squares constant predictor.\n",
    "\n",
    "**c)** Find $MSE(\\hat{c})$."
   ]
  },
  {
   "cell_type": "markdown",
   "metadata": {},
   "source": [
    "**10.**\n",
    "Let $X$ have the uniform distribution on the three points $-1$, $0$, and $1$. Let $Y = X^2$.\n",
    "\n",
    "**a)** Show that $X$ and $Y$ are uncorrelated.\n",
    "\n",
    "**b)** Are $X$ and $Y$ independent?"
   ]
  }
 ],
 "metadata": {
  "kernelspec": {
   "display_name": "Python 3",
   "language": "python",
   "name": "python3"
  },
  "language_info": {
   "codemirror_mode": {
    "name": "ipython",
    "version": 3
   },
   "file_extension": ".py",
   "mimetype": "text/x-python",
   "name": "python",
   "nbconvert_exporter": "python",
   "pygments_lexer": "ipython3",
   "version": "3.12.5"
  }
 },
 "nbformat": 4,
 "nbformat_minor": 4
}