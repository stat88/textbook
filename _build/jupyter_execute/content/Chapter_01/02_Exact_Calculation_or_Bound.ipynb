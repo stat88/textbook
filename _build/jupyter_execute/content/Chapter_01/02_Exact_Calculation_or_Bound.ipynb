{
 "cells": [
  {
   "cell_type": "code",
   "execution_count": 1,
   "metadata": {
    "tags": [
     "remove_cell"
    ]
   },
   "outputs": [],
   "source": [
    "# HIDDEN\n",
    "from datascience import *\n",
    "from prob140 import *\n",
    "%matplotlib inline\n",
    "import matplotlib.pyplot as plt\n",
    "plt.style.use('fivethirtyeight')\n",
    "import numpy as np"
   ]
  },
  {
   "cell_type": "markdown",
   "metadata": {},
   "source": [
    "## Exact Calculation, or Bound? ##"
   ]
  },
  {
   "cell_type": "markdown",
   "metadata": {},
   "source": [
    "All of the questions we asked in the previous section could be answered based on the information given. But sometimes the information at hand is not enough for us to be able to find the probability of an event of interest. Let's look at an example of this and then see if there is anything useful we can say in situations where we can't find an answer exactly.\n",
    "\n",
    "As a reminder, here is the Pew Research Center graphic again. The experiment is to pick one teen at random from the population represented in the charts.\n",
    "\n",
    "![online platform usage](../images/online_platforms.png)"
   ]
  },
  {
   "cell_type": "markdown",
   "metadata": {},
   "source": [
    "### Facebook or Twitter: Question 1 ###\n",
    "What is the chance that the selected teen used Facebook or Twitter most often?\n",
    "\n",
    "This question has an exact answer based on the right hand chart. Each teen is in exactly one bar of that chart. The teens who used FB most often are an entirely distinct group from those who used Twitter most often. \n",
    "\n",
    "Here is a Venn diagram representation of this. The number shown in each disc is the percent of teens in that category. \n",
    "\n",
    "If you think of proportions as areas (a very good idea, as you will soon see), the green area is the proportion in question: the proportion of all teens who used FB or Twitter the most. The area is clearly 13% because there is no overlap between the two discs.\n",
    "\n",
    "![Venn diagram: mutually exclusive](../images/venn_mut_excl.png)\n",
    "\n",
    "Because the discs are disjoint from each other, the answer for a randomly selected teen is\n",
    "\n",
    "$$\n",
    "P(\\text{used Facebook or Twitter most often}) ~ = ~ 0.1 + 0.03 ~ = ~ 0.13\n",
    "$$"
   ]
  },
  {
   "cell_type": "markdown",
   "metadata": {},
   "source": [
    "### Facebook or Twitter: Question 2 ###\n",
    "What is the chance that the selected teen used Facebook or Twitter?\n",
    "\n",
    "The left hand graph says that 51% of the teens used Facebook and 32% used Twitter. If we try to draw a Venn diagram that represents this, we run into a problem. *Some teens might have used both Facebook and Twitter, and we don't know the percent in this group.*\n",
    "\n",
    "So the first point to note is that there is not enough information to find an exact answer to the question.\n",
    "\n",
    "That's life. We usually have incomplete information and thus there are many questions that we can't answer exactly.\n",
    "\n",
    "But let's not just throw up our hands. Let's see if there is anything more that we can say about the chance other than, \"We can't find its exact value.\""
   ]
  },
  {
   "cell_type": "markdown",
   "metadata": {},
   "source": [
    "### Bounds ###\n",
    "When we can't find the exact value of a chance, we can instead try to place some bounds on it.\n",
    "\n",
    "One pair of bounds is easy: the chance is between 0 and 1 (or 0% and 100% if you prefer). \n",
    "\n",
    "While this is doubtless true, it is not particularly useful. Can we do better?\n",
    "\n",
    "For this we should examine where we got stuck. \n",
    "\n",
    "- We want the percent of teens who used Facebook or Twitter.\n",
    "- We know that 51% of teens used Facebook and 32% used Twitter.\n",
    "- But we can't draw a Venn diagram because we don't know the extent of the overlap between the two groups. That is, we don't know the percent of teens who used both platforms.\n",
    "\n",
    "How big could the overlap be?\n",
    "- The largest possible overlap would happen if every teen who used Twitter also used Facebook.\n",
    "- The smallest possible overlap would happen if no teen used both Facebook and Twitter.\n",
    "\n",
    "Both of these possibilities are unrealistic but they are theoretically possible. They are represented as Venn diagrams in the discussions below. Remember that in all the diagrams, the green region corresponds to teens who used either Facebook or Twitter. "
   ]
  },
  {
   "cell_type": "markdown",
   "metadata": {},
   "source": [
    "### Lower Bound on the Chance ###\n",
    "\n",
    "The percent of teens who used Facebook or Twitter must be at least 51% because the group includes all those who used Facebook. So the chance that the selected teen used Facebook or Twitter must be at least 51%.\n",
    "\n",
    "Here is a Venn diagram of the extreme case when every teen who used Twitter also used Facebook.\n",
    "\n",
    "![first extreme](../images/venn_extreme1.png) \n",
    "\n",
    "In this diagram, the area of the green region is 51%. It is the same as the area of the Facebook region because the Twitter region is completely contained in it."
   ]
  },
  {
   "cell_type": "markdown",
   "metadata": {},
   "source": [
    "### Upper Bound on the Chance ###\n",
    "\n",
    "The diagram below shows the other extreme, when the group that used Facebook is entirely distinct from the group that used Twitter.\n",
    "\n",
    "![second extreme](../images/venn_extreme2.png)\n",
    "\n",
    "In this diagram the area of the green region is 51% + 32% = 83%.\n",
    "\n",
    "That's the biggest that the chance can be, because the other possible Venn diagrams look something like the one below and thus have a smaller green region.\n",
    "\n",
    "![overlap](../images/venn_overlap.png)"
   ]
  },
  {
   "cell_type": "markdown",
   "metadata": {},
   "source": [
    "We have shown that the chance that the randomly selected teen used Facebook or Twitter is at least 51% and at most 83%.\n",
    "\n",
    "Though we don't have an exact value for the chance, we have done much better than just saying that the chance is between 0% and 100%."
   ]
  },
  {
   "cell_type": "code",
   "execution_count": null,
   "metadata": {},
   "outputs": [],
   "source": []
  }
 ],
 "metadata": {
  "celltoolbar": "Edit Metadata",
  "kernelspec": {
   "display_name": "Python 3",
   "language": "python",
   "name": "python3"
  },
  "language_info": {
   "codemirror_mode": {
    "name": "ipython",
    "version": 3
   },
   "file_extension": ".py",
   "mimetype": "text/x-python",
   "name": "python",
   "nbconvert_exporter": "python",
   "pygments_lexer": "ipython3",
   "version": "3.12.5"
  }
 },
 "nbformat": 4,
 "nbformat_minor": 4
}