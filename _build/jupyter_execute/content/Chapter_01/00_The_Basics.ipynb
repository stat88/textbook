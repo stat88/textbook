{
 "cells": [
  {
   "cell_type": "code",
   "execution_count": 1,
   "metadata": {
    "tags": [
     "remove_cell"
    ]
   },
   "outputs": [],
   "source": [
    "# HIDDEN\n",
    "from datascience import *\n",
    "from prob140 import *\n",
    "%matplotlib inline\n",
    "import matplotlib.pyplot as plt\n",
    "plt.style.use('fivethirtyeight')\n",
    "import numpy as np"
   ]
  },
  {
   "cell_type": "markdown",
   "metadata": {},
   "source": [
    "# The Basics #"
   ]
  },
  {
   "cell_type": "markdown",
   "metadata": {},
   "source": [
    "This chapter sets out the rules of the game – the axioms on which the theory of probability is based. The axioms aren't laws of nature. They are minimal conditions outlined by probabilists to reflect some reasonable requirements about how probabilities should behave. It turns out that the simple set of axioms leads to a powerful theory that has an extraordinary range of application, some of which we will study in this course.\n",
    "\n",
    "We will start out by examining our own intuition about probabilities as proportions, and then look at some ways in which proportions behave. This will help motivate the formal axioms and a few of their consequences.\n",
    "\n",
    "Along the way we will also address a general problem that data scientists encounter frequently: What do we do if we are looking for a numerical answer to a question but don't have enough information to find it? Can we do better than just giving up and going away? \n",
    "\n",
    "In many situations there is indeed a better option. We will examine one of those situations and see what we can do to gain some insight even though we have incomplete information."
   ]
  },
  {
   "cell_type": "code",
   "execution_count": null,
   "metadata": {},
   "outputs": [],
   "source": []
  }
 ],
 "metadata": {
  "celltoolbar": "Edit Metadata",
  "kernelspec": {
   "display_name": "Python 3",
   "language": "python",
   "name": "python3"
  },
  "language_info": {
   "codemirror_mode": {
    "name": "ipython",
    "version": 3
   },
   "file_extension": ".py",
   "mimetype": "text/x-python",
   "name": "python",
   "nbconvert_exporter": "python",
   "pygments_lexer": "ipython3",
   "version": "3.12.5"
  }
 },
 "nbformat": 4,
 "nbformat_minor": 4
}