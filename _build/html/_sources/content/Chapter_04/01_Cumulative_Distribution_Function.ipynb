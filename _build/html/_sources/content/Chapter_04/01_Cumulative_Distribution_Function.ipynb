{
 "cells": [
  {
   "cell_type": "code",
   "execution_count": 1,
   "metadata": {
    "tags": [
     "remove_input"
    ]
   },
   "outputs": [],
   "source": [
    "# NO CODE\n",
    "\n",
    "from prob140 import *\n",
    "from datascience import *\n",
    "import numpy as np\n",
    "from scipy import stats\n",
    "\n",
    "import matplotlib.pyplot as plt\n",
    "%matplotlib inline\n",
    "import matplotlib\n",
    "matplotlib.style.use('fivethirtyeight')\n",
    "\n",
    "import warnings\n",
    "warnings.filterwarnings('ignore')"
   ]
  },
  {
   "cell_type": "markdown",
   "metadata": {},
   "source": [
    "## Cumulative Distribution Function (CDF) ##\n",
    "\n",
    "There are many ways of specifying distributions. We have sometimes used a table to display the distribution of a random variable $X$. At other times we have written $P(X = k)$ as a formula for each possible value $k$ of $X$.\n",
    "\n",
    "Another useful function that encapsulates all the information about the distribution of $X$ is called the *cumulative distribution function* of $X$. That's a real mouthful, so it is usually abbreviated to the cdf of $X$. \n",
    "\n",
    "Let's see what the cdf is in an example.\n",
    "\n",
    "Suppose $X$ has the distribution given below. It happens to be the binomial $(3, 1/2)$ distribution, but that is not important for this discussion.\n",
    "\n",
    "|$~~~~~~~~~~~~~~~~~~~~~x$|0    |1    |2    |3    |\n",
    "|-------:|:---:|:---:|:---:|:---:|\n",
    "|$P(X=x)$|1/8  |3/8  |3/8  |1/8  |\n",
    "\n",
    "The cdf of $X$ is another way of providing the same information. It is the function $F$ defined by\n",
    "\n",
    "$$\n",
    "F(x) ~ = ~ P(X \\le x), ~~~~~ -\\infty < x < \\infty\n",
    "$$\n",
    "\n",
    "The cdf of the random variable $X$, evaluated at the point $x$, is the **chance that the value of $X$ is at most $x$**.\n",
    "\n",
    "The gold area in the probability histogram below is $F(2)$."
   ]
  },
  {
   "cell_type": "code",
   "execution_count": null,
   "metadata": {
    "tags": [
     "remove_input"
    ]
   },
   "outputs": [],
   "source": [
    "# NO CODE \n",
    "\n",
    "k = np.arange(4)\n",
    "probs = [1/8, 3/8, 3/8, 1/8]\n",
    "dist = Table().values(k).probabilities(probs)\n",
    "Plot(dist, event=np.arange(3))\n",
    "plt.title('Gold Area = $F(2) = P(X \\leq 2)$');"
   ]
  },
  {
   "cell_type": "markdown",
   "metadata": {},
   "source": [
    "We will sometimes use the loose term \"left hand probabilities\" to denote values of $F$. Each of those values $F(x)$ is the area of the bar at $x$ as well as all the bars to the left. In the figure above,\n",
    "\n",
    "$$\n",
    "F(2) ~ = ~ P(X \\le 2) ~ = ~ P(X = 0) + P(X = 1) + P(X = 2)\n",
    "$$\n",
    "\n",
    "We will now augment the distribution table by a row containing some values of $F$. These are obtained obtained by adding the probabilities $P(X=x)$ successively from the left end. This *cumulative sum* is the reason for the name of the function.\n",
    "\n",
    "|$~~~~~~~~~~~~~~~~~~~~~x$|0    |1    |2    |3    |\n",
    "|-------:|:---:|:---:|:---:|:---:|\n",
    "|$P(X=x)$|1/8  |3/8  |3/8  |1/8  |\n",
    "|$F(x)$  |1/8  |4/8  |7/8  |1    |\n",
    "\n",
    "Notice that we can recover $P(X=x)$ from values of $F$ as follows. For integer $x$,\n",
    "\n",
    "$$\n",
    "P(X = x) ~ = ~ P(X \\le x) - P(X \\le x-1) ~ = ~ F(x) - F(x-1)\n",
    "$$\n",
    "\n",
    "These calculations show that if you know the distribution of $X$ then you know the cdf of $X$, and vice versa. The distribution and the cdf contain the same information."
   ]
  },
  {
   "cell_type": "markdown",
   "metadata": {},
   "source": [
    "### Graph of the CDF ###\n",
    "\n",
    "The graph of every cdf has some properties that are easy to see:\n",
    "\n",
    "- The graph is non-decreasing.\n",
    "- The values are on the vertical axis are probabilities and hence are between 0 and 1.\n",
    "- The graph starts out at or near 0 for large negative values of $x$, and ends up at or near 1 for large positive values of $x$.\n",
    "\n",
    "You can see all these properties in the graph of the function $F$ defined above."
   ]
  },
  {
   "cell_type": "code",
   "execution_count": null,
   "metadata": {
    "scrolled": true,
    "tags": [
     "remove_input"
    ]
   },
   "outputs": [],
   "source": [
    "# NO CODE\n",
    "\n",
    "k = range(4)\n",
    "vals_F = [1/8, 4/8, 7/8, 1]\n",
    "plt.plot([-3, 0], [0, 0], lw=2, color='darkblue')\n",
    "for i in range(3):\n",
    "    plt.plot([k[i], k[i+1]], [vals_F[i], vals_F[i]], lw=2, color='darkblue')\n",
    "plt.plot([3, 6], [1, 1], lw=2, color='darkblue')\n",
    "for i in k:\n",
    "    plt.scatter(i, vals_F[i], s=20, color='darkblue')\n",
    "plt.xticks(np.arange(-3, 7))\n",
    "plt.yticks([0, 1/8, 4/8, 7/8, 1])\n",
    "plt.xlabel('$x$')\n",
    "plt.ylabel('$F(x)$')\n",
    "plt.title('CDF of $X$');"
   ]
  },
  {
   "cell_type": "markdown",
   "metadata": {},
   "source": [
    "You can see also that the graph has flat parts and jumps.\n",
    "\n",
    "- **Flat parts:** These are in-between the possible values of $X$ and also beyond the possible values in both directions. Since $X$ is a non-negative variable, for all negative $x$ we have $F(x) = P(X \\le x) = 0$. Since $X$ is always at most 3, for all $x > 3$ we have $F(x) = P(X \\le x) = 1$. For $x$ in between two possible values, say $x = 1.6$, we have $F(1.6) = P(X \\le 1.6) = P(X \\le 1) = F(1)$. So for $x \\in [1, 2)$, the graph is flat at $F(1)$. You can explain all the other flat parts analogously.\n",
    "\n",
    "- **Jumps:** The graph has a jump (or discontinuity) at each possible value $x$ of $X$. That is, the graph jumps at each value $x$ such that $P(X = x) > 0$. The size of the jump at $x$ is equal to $P(X = x)$. For example, $P(X = 2)$ is the size of the jump at $x=2$, which is $0.875 - 0.5 = 0.375 = 3/8$."
   ]
  },
  {
   "cell_type": "markdown",
   "metadata": {},
   "source": [
    "### Computation ###\n",
    "\n",
    "We will have many uses for the cdf in this course. In fact, we have already used it several times without giving it a name.\n",
    "\n",
    "For example, the chance of at most 3 sixes in 20 rolls of a die is given by the binomial formula and the addition rule:\n",
    "\n",
    "$$\n",
    "P(\\text{at most 3 sixes in 20 rolls}) ~ = ~ \\sum_{k=0}^3 \\binom{20}{k}(1/6)^k(5/6)^{20-k}\n",
    "$$\n",
    "\n",
    "This can be computed as "
   ]
  },
  {
   "cell_type": "code",
   "execution_count": 2,
   "metadata": {},
   "outputs": [
    {
     "data": {
      "text/plain": [
       "0.56654563777566991"
      ]
     },
     "execution_count": 2,
     "metadata": {},
     "output_type": "execute_result"
    }
   ],
   "source": [
    "sum(stats.binom.pmf(np.arange(4), 20, 1/6))"
   ]
  },
  {
   "cell_type": "markdown",
   "metadata": {},
   "source": [
    "Let $X$ be the number of sixes in 20 rolls. Then $X$ has the binomial $(20, 1/6)$ distribution. The answer above is $P(X \\le 3)$. That's $F(3)$ where $F$ is the cdf of $X$.\n",
    "\n",
    "The `stats` module includes a `cdf` method that allows us to obtain the answer directly without summing.\n",
    "\n",
    "The expression `stats.binom.cdf(k, n, p)` evaluates to $F(k)$ where $F$ is the cdf of a binomial $(n, p)$ random variable.\n",
    "\n",
    "So our answer can also be found as follows."
   ]
  },
  {
   "cell_type": "code",
   "execution_count": 3,
   "metadata": {},
   "outputs": [
    {
     "data": {
      "text/plain": [
       "0.56654563777566902"
      ]
     },
     "execution_count": 3,
     "metadata": {},
     "output_type": "execute_result"
    }
   ],
   "source": [
    "stats.binom.cdf(3, 20, 1/6)"
   ]
  },
  {
   "cell_type": "markdown",
   "metadata": {},
   "source": [
    "Probabilities are frequently computed as sums. The cdf is a very useful tool for doing this, so `stats` provides a `cdf` method associated with each distribution. \n",
    "\n",
    "You can use `stats.hypergeom.cdf(k, N, G, n)` to find the value of $F(k)$ for a random variable that has the hypergeometric $(N, G, n)$ distribution.\n",
    "\n",
    "For example, recall that a standard deck contains 52 cards of which 12 are face cards. The chance of more than 5 face cards in a bridge hand of 13 cards dealt from a standard deck is\n",
    "\n",
    "$$\n",
    "\\begin{align*}\n",
    "&P(\\text{more than 5 face cards in a hand of 13 cards}) \\\\\n",
    "&= ~ 1 - P(\\text{at most 5 face cards in the hand}) \\\\\n",
    "&= ~ 1 - \\sum_{k=0}^{5} \\frac{\\binom{12}{k}\\binom{40}{13-k}}{\\binom{52}{13}}\n",
    "\\end{align*}\n",
    "$$\n",
    "\n",
    "Now you can get the numerical value by using `stats.hypergeom.cdf`:"
   ]
  },
  {
   "cell_type": "code",
   "execution_count": null,
   "metadata": {},
   "outputs": [],
   "source": [
    "1 - stats.hypergeom.cdf(5, 52, 12, 13)"
   ]
  }
 ],
 "metadata": {
  "celltoolbar": "Edit Metadata",
  "kernelspec": {
   "display_name": "Python 3 (ipykernel)",
   "language": "python",
   "name": "python3"
  },
  "language_info": {
   "codemirror_mode": {
    "name": "ipython",
    "version": 3
   },
   "file_extension": ".py",
   "mimetype": "text/x-python",
   "name": "python",
   "nbconvert_exporter": "python",
   "pygments_lexer": "ipython3",
   "version": "3.12.8"
  }
 },
 "nbformat": 4,
 "nbformat_minor": 4
}
